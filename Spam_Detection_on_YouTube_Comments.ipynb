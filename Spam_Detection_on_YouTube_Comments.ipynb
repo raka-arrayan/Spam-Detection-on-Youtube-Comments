{
  "nbformat": 4,
  "nbformat_minor": 0,
  "metadata": {
    "colab": {
      "provenance": []
    },
    "kernelspec": {
      "name": "python3",
      "display_name": "Python 3"
    },
    "language_info": {
      "name": "python"
    }
  },
  "cells": [
    {
      "cell_type": "markdown",
      "source": [
        "Spam Detection on YouTube Comments(by raka arrayan)"
      ],
      "metadata": {
        "id": "cGnDes449Ku1"
      }
    },
    {
      "cell_type": "markdown",
      "source": [
        "# Pendahuluan ( Mempelajari cara kerja )"
      ],
      "metadata": {
        "id": "A3JeaNlME4tb"
      }
    },
    {
      "cell_type": "code",
      "source": [
        "# Contoh YouTube comments\n",
        "\n",
        "daftar_kalimat = [\"watch this amazing video\",\n",
        "                  \"subscribe to my channel\",\n",
        "                  \"check out my new vlog\"]"
      ],
      "metadata": {
        "id": "L_trN6eSFBXC"
      },
      "execution_count": 31,
      "outputs": []
    },
    {
      "cell_type": "code",
      "source": [
        "# Inisiasi CountVectorizer\n",
        "\n",
        "from sklearn.feature_extraction.text import CountVectorizer\n",
        "vect = CountVectorizer()#Inisialisasi objek CountVectorizer."
      ],
      "metadata": {
        "id": "l38hAxPOFFwL"
      },
      "execution_count": 32,
      "outputs": []
    },
    {
      "cell_type": "code",
      "source": [
        "# Mempelajari kata apa saja yang ada pada `daftar_kalimat`\n",
        "\n",
        "vect.fit(daftar_kalimat)\n",
        "#.fit digunakan untuk mempelajari kata-kata yang ada pada daftar kalimat dan membangun vocabulary dari kata-kata unik."
      ],
      "metadata": {
        "colab": {
          "base_uri": "https://localhost:8080/",
          "height": 74
        },
        "id": "Tg0yBQLfFI5t",
        "outputId": "aac0be28-9304-48bd-c441-d16089048aae"
      },
      "execution_count": 33,
      "outputs": [
        {
          "output_type": "execute_result",
          "data": {
            "text/plain": [
              "CountVectorizer()"
            ],
            "text/html": [
              "<style>#sk-container-id-4 {color: black;}#sk-container-id-4 pre{padding: 0;}#sk-container-id-4 div.sk-toggleable {background-color: white;}#sk-container-id-4 label.sk-toggleable__label {cursor: pointer;display: block;width: 100%;margin-bottom: 0;padding: 0.3em;box-sizing: border-box;text-align: center;}#sk-container-id-4 label.sk-toggleable__label-arrow:before {content: \"▸\";float: left;margin-right: 0.25em;color: #696969;}#sk-container-id-4 label.sk-toggleable__label-arrow:hover:before {color: black;}#sk-container-id-4 div.sk-estimator:hover label.sk-toggleable__label-arrow:before {color: black;}#sk-container-id-4 div.sk-toggleable__content {max-height: 0;max-width: 0;overflow: hidden;text-align: left;background-color: #f0f8ff;}#sk-container-id-4 div.sk-toggleable__content pre {margin: 0.2em;color: black;border-radius: 0.25em;background-color: #f0f8ff;}#sk-container-id-4 input.sk-toggleable__control:checked~div.sk-toggleable__content {max-height: 200px;max-width: 100%;overflow: auto;}#sk-container-id-4 input.sk-toggleable__control:checked~label.sk-toggleable__label-arrow:before {content: \"▾\";}#sk-container-id-4 div.sk-estimator input.sk-toggleable__control:checked~label.sk-toggleable__label {background-color: #d4ebff;}#sk-container-id-4 div.sk-label input.sk-toggleable__control:checked~label.sk-toggleable__label {background-color: #d4ebff;}#sk-container-id-4 input.sk-hidden--visually {border: 0;clip: rect(1px 1px 1px 1px);clip: rect(1px, 1px, 1px, 1px);height: 1px;margin: -1px;overflow: hidden;padding: 0;position: absolute;width: 1px;}#sk-container-id-4 div.sk-estimator {font-family: monospace;background-color: #f0f8ff;border: 1px dotted black;border-radius: 0.25em;box-sizing: border-box;margin-bottom: 0.5em;}#sk-container-id-4 div.sk-estimator:hover {background-color: #d4ebff;}#sk-container-id-4 div.sk-parallel-item::after {content: \"\";width: 100%;border-bottom: 1px solid gray;flex-grow: 1;}#sk-container-id-4 div.sk-label:hover label.sk-toggleable__label {background-color: #d4ebff;}#sk-container-id-4 div.sk-serial::before {content: \"\";position: absolute;border-left: 1px solid gray;box-sizing: border-box;top: 0;bottom: 0;left: 50%;z-index: 0;}#sk-container-id-4 div.sk-serial {display: flex;flex-direction: column;align-items: center;background-color: white;padding-right: 0.2em;padding-left: 0.2em;position: relative;}#sk-container-id-4 div.sk-item {position: relative;z-index: 1;}#sk-container-id-4 div.sk-parallel {display: flex;align-items: stretch;justify-content: center;background-color: white;position: relative;}#sk-container-id-4 div.sk-item::before, #sk-container-id-4 div.sk-parallel-item::before {content: \"\";position: absolute;border-left: 1px solid gray;box-sizing: border-box;top: 0;bottom: 0;left: 50%;z-index: -1;}#sk-container-id-4 div.sk-parallel-item {display: flex;flex-direction: column;z-index: 1;position: relative;background-color: white;}#sk-container-id-4 div.sk-parallel-item:first-child::after {align-self: flex-end;width: 50%;}#sk-container-id-4 div.sk-parallel-item:last-child::after {align-self: flex-start;width: 50%;}#sk-container-id-4 div.sk-parallel-item:only-child::after {width: 0;}#sk-container-id-4 div.sk-dashed-wrapped {border: 1px dashed gray;margin: 0 0.4em 0.5em 0.4em;box-sizing: border-box;padding-bottom: 0.4em;background-color: white;}#sk-container-id-4 div.sk-label label {font-family: monospace;font-weight: bold;display: inline-block;line-height: 1.2em;}#sk-container-id-4 div.sk-label-container {text-align: center;}#sk-container-id-4 div.sk-container {/* jupyter's `normalize.less` sets `[hidden] { display: none; }` but bootstrap.min.css set `[hidden] { display: none !important; }` so we also need the `!important` here to be able to override the default hidden behavior on the sphinx rendered scikit-learn.org. See: https://github.com/scikit-learn/scikit-learn/issues/21755 */display: inline-block !important;position: relative;}#sk-container-id-4 div.sk-text-repr-fallback {display: none;}</style><div id=\"sk-container-id-4\" class=\"sk-top-container\"><div class=\"sk-text-repr-fallback\"><pre>CountVectorizer()</pre><b>In a Jupyter environment, please rerun this cell to show the HTML representation or trust the notebook. <br />On GitHub, the HTML representation is unable to render, please try loading this page with nbviewer.org.</b></div><div class=\"sk-container\" hidden><div class=\"sk-item\"><div class=\"sk-estimator sk-toggleable\"><input class=\"sk-toggleable__control sk-hidden--visually\" id=\"sk-estimator-id-4\" type=\"checkbox\" checked><label for=\"sk-estimator-id-4\" class=\"sk-toggleable__label sk-toggleable__label-arrow\">CountVectorizer</label><div class=\"sk-toggleable__content\"><pre>CountVectorizer()</pre></div></div></div></div></div>"
            ]
          },
          "metadata": {},
          "execution_count": 33
        }
      ]
    },
    {
      "cell_type": "code",
      "source": [
        "# Lihat semua kata\n",
        "\n",
        "vect.get_feature_names_out()\n",
        "# Mengambil semua kata unik (vocabulary) yang ditemukan pada daftar kalimat."
      ],
      "metadata": {
        "colab": {
          "base_uri": "https://localhost:8080/"
        },
        "id": "Jsw7CX0bFMvC",
        "outputId": "a57e3c8b-ec10-449d-d9a1-b7376aefc202"
      },
      "execution_count": 34,
      "outputs": [
        {
          "output_type": "execute_result",
          "data": {
            "text/plain": [
              "array(['amazing', 'channel', 'check', 'my', 'new', 'out', 'subscribe',\n",
              "       'this', 'to', 'video', 'vlog', 'watch'], dtype=object)"
            ]
          },
          "metadata": {},
          "execution_count": 34
        }
      ]
    },
    {
      "cell_type": "code",
      "source": [
        "# Mengubah kata menjadi vektor berdasarkan frekuensi kemunculannya\n",
        "\n",
        "corpus_mat = vect.transform(daftar_kalimat)\n",
        "corpus_mat.toarray()\n",
        "# transform digunakan untuk mengubah kalimat-kalimat menjadi vektor berdasarkan frekuensi kemunculan kata dari vocabulary yang telah dipelajari.\n",
        "# corpus_mat.toarray(): Mengubah sparse matrix menjadi dense matrix untuk memudahkan tampilan dan analisis lebih lanjut"
      ],
      "metadata": {
        "colab": {
          "base_uri": "https://localhost:8080/"
        },
        "id": "UNwJdvU2FPbn",
        "outputId": "7f42315e-2364-4f38-b181-a14d019bd9ef"
      },
      "execution_count": 35,
      "outputs": [
        {
          "output_type": "execute_result",
          "data": {
            "text/plain": [
              "array([[1, 0, 0, 0, 0, 0, 0, 1, 0, 1, 0, 1],\n",
              "       [0, 1, 0, 1, 0, 0, 1, 0, 1, 0, 0, 0],\n",
              "       [0, 0, 1, 1, 1, 1, 0, 0, 0, 0, 1, 0]])"
            ]
          },
          "metadata": {},
          "execution_count": 35
        }
      ]
    },
    {
      "cell_type": "code",
      "source": [
        "# Melihat vektor yang dibuat\n",
        "\n",
        "import pandas as pd\n",
        "pd.DataFrame(corpus_mat.toarray(), columns=vect.get_feature_names_out())\n",
        "# Mengubah sparse matrix menjadi array untuk memudahkan analisis dan visualisasi.\n",
        "# pd.DataFrame(corpus_mat.toarray(), columns=vect.get_feature_names_out()): Membuat DataFrame dari dense matrix, dengan kolom yang diberi label sesuai dengan kosakata yang dipelajari oleh CountVectorizer.\n",
        "#get_feature_names_out() mengembalikan daftar kata dari kosakata dalam urutan yang sesuai dengan kolom dalam matriks fitur."
      ],
      "metadata": {
        "colab": {
          "base_uri": "https://localhost:8080/",
          "height": 143
        },
        "id": "HnC98axXFR_u",
        "outputId": "804f9457-4989-4df9-d96f-79ce42a15bfa"
      },
      "execution_count": 36,
      "outputs": [
        {
          "output_type": "execute_result",
          "data": {
            "text/plain": [
              "   amazing  channel  check  my  new  out  subscribe  this  to  video  vlog  \\\n",
              "0        1        0      0   0    0    0          0     1   0      1     0   \n",
              "1        0        1      0   1    0    0          1     0   1      0     0   \n",
              "2        0        0      1   1    1    1          0     0   0      0     1   \n",
              "\n",
              "   watch  \n",
              "0      1  \n",
              "1      0  \n",
              "2      0  "
            ],
            "text/html": [
              "\n",
              "  <div id=\"df-5392effb-d8dc-466b-b214-27e5fc3bb392\" class=\"colab-df-container\">\n",
              "    <div>\n",
              "<style scoped>\n",
              "    .dataframe tbody tr th:only-of-type {\n",
              "        vertical-align: middle;\n",
              "    }\n",
              "\n",
              "    .dataframe tbody tr th {\n",
              "        vertical-align: top;\n",
              "    }\n",
              "\n",
              "    .dataframe thead th {\n",
              "        text-align: right;\n",
              "    }\n",
              "</style>\n",
              "<table border=\"1\" class=\"dataframe\">\n",
              "  <thead>\n",
              "    <tr style=\"text-align: right;\">\n",
              "      <th></th>\n",
              "      <th>amazing</th>\n",
              "      <th>channel</th>\n",
              "      <th>check</th>\n",
              "      <th>my</th>\n",
              "      <th>new</th>\n",
              "      <th>out</th>\n",
              "      <th>subscribe</th>\n",
              "      <th>this</th>\n",
              "      <th>to</th>\n",
              "      <th>video</th>\n",
              "      <th>vlog</th>\n",
              "      <th>watch</th>\n",
              "    </tr>\n",
              "  </thead>\n",
              "  <tbody>\n",
              "    <tr>\n",
              "      <th>0</th>\n",
              "      <td>1</td>\n",
              "      <td>0</td>\n",
              "      <td>0</td>\n",
              "      <td>0</td>\n",
              "      <td>0</td>\n",
              "      <td>0</td>\n",
              "      <td>0</td>\n",
              "      <td>1</td>\n",
              "      <td>0</td>\n",
              "      <td>1</td>\n",
              "      <td>0</td>\n",
              "      <td>1</td>\n",
              "    </tr>\n",
              "    <tr>\n",
              "      <th>1</th>\n",
              "      <td>0</td>\n",
              "      <td>1</td>\n",
              "      <td>0</td>\n",
              "      <td>1</td>\n",
              "      <td>0</td>\n",
              "      <td>0</td>\n",
              "      <td>1</td>\n",
              "      <td>0</td>\n",
              "      <td>1</td>\n",
              "      <td>0</td>\n",
              "      <td>0</td>\n",
              "      <td>0</td>\n",
              "    </tr>\n",
              "    <tr>\n",
              "      <th>2</th>\n",
              "      <td>0</td>\n",
              "      <td>0</td>\n",
              "      <td>1</td>\n",
              "      <td>1</td>\n",
              "      <td>1</td>\n",
              "      <td>1</td>\n",
              "      <td>0</td>\n",
              "      <td>0</td>\n",
              "      <td>0</td>\n",
              "      <td>0</td>\n",
              "      <td>1</td>\n",
              "      <td>0</td>\n",
              "    </tr>\n",
              "  </tbody>\n",
              "</table>\n",
              "</div>\n",
              "    <div class=\"colab-df-buttons\">\n",
              "\n",
              "  <div class=\"colab-df-container\">\n",
              "    <button class=\"colab-df-convert\" onclick=\"convertToInteractive('df-5392effb-d8dc-466b-b214-27e5fc3bb392')\"\n",
              "            title=\"Convert this dataframe to an interactive table.\"\n",
              "            style=\"display:none;\">\n",
              "\n",
              "  <svg xmlns=\"http://www.w3.org/2000/svg\" height=\"24px\" viewBox=\"0 -960 960 960\">\n",
              "    <path d=\"M120-120v-720h720v720H120Zm60-500h600v-160H180v160Zm220 220h160v-160H400v160Zm0 220h160v-160H400v160ZM180-400h160v-160H180v160Zm440 0h160v-160H620v160ZM180-180h160v-160H180v160Zm440 0h160v-160H620v160Z\"/>\n",
              "  </svg>\n",
              "    </button>\n",
              "\n",
              "  <style>\n",
              "    .colab-df-container {\n",
              "      display:flex;\n",
              "      gap: 12px;\n",
              "    }\n",
              "\n",
              "    .colab-df-convert {\n",
              "      background-color: #E8F0FE;\n",
              "      border: none;\n",
              "      border-radius: 50%;\n",
              "      cursor: pointer;\n",
              "      display: none;\n",
              "      fill: #1967D2;\n",
              "      height: 32px;\n",
              "      padding: 0 0 0 0;\n",
              "      width: 32px;\n",
              "    }\n",
              "\n",
              "    .colab-df-convert:hover {\n",
              "      background-color: #E2EBFA;\n",
              "      box-shadow: 0px 1px 2px rgba(60, 64, 67, 0.3), 0px 1px 3px 1px rgba(60, 64, 67, 0.15);\n",
              "      fill: #174EA6;\n",
              "    }\n",
              "\n",
              "    .colab-df-buttons div {\n",
              "      margin-bottom: 4px;\n",
              "    }\n",
              "\n",
              "    [theme=dark] .colab-df-convert {\n",
              "      background-color: #3B4455;\n",
              "      fill: #D2E3FC;\n",
              "    }\n",
              "\n",
              "    [theme=dark] .colab-df-convert:hover {\n",
              "      background-color: #434B5C;\n",
              "      box-shadow: 0px 1px 3px 1px rgba(0, 0, 0, 0.15);\n",
              "      filter: drop-shadow(0px 1px 2px rgba(0, 0, 0, 0.3));\n",
              "      fill: #FFFFFF;\n",
              "    }\n",
              "  </style>\n",
              "\n",
              "    <script>\n",
              "      const buttonEl =\n",
              "        document.querySelector('#df-5392effb-d8dc-466b-b214-27e5fc3bb392 button.colab-df-convert');\n",
              "      buttonEl.style.display =\n",
              "        google.colab.kernel.accessAllowed ? 'block' : 'none';\n",
              "\n",
              "      async function convertToInteractive(key) {\n",
              "        const element = document.querySelector('#df-5392effb-d8dc-466b-b214-27e5fc3bb392');\n",
              "        const dataTable =\n",
              "          await google.colab.kernel.invokeFunction('convertToInteractive',\n",
              "                                                    [key], {});\n",
              "        if (!dataTable) return;\n",
              "\n",
              "        const docLinkHtml = 'Like what you see? Visit the ' +\n",
              "          '<a target=\"_blank\" href=https://colab.research.google.com/notebooks/data_table.ipynb>data table notebook</a>'\n",
              "          + ' to learn more about interactive tables.';\n",
              "        element.innerHTML = '';\n",
              "        dataTable['output_type'] = 'display_data';\n",
              "        await google.colab.output.renderOutput(dataTable, element);\n",
              "        const docLink = document.createElement('div');\n",
              "        docLink.innerHTML = docLinkHtml;\n",
              "        element.appendChild(docLink);\n",
              "      }\n",
              "    </script>\n",
              "  </div>\n",
              "\n",
              "\n",
              "<div id=\"df-55cb8a2a-96ff-470e-820c-b8555efff67b\">\n",
              "  <button class=\"colab-df-quickchart\" onclick=\"quickchart('df-55cb8a2a-96ff-470e-820c-b8555efff67b')\"\n",
              "            title=\"Suggest charts\"\n",
              "            style=\"display:none;\">\n",
              "\n",
              "<svg xmlns=\"http://www.w3.org/2000/svg\" height=\"24px\"viewBox=\"0 0 24 24\"\n",
              "     width=\"24px\">\n",
              "    <g>\n",
              "        <path d=\"M19 3H5c-1.1 0-2 .9-2 2v14c0 1.1.9 2 2 2h14c1.1 0 2-.9 2-2V5c0-1.1-.9-2-2-2zM9 17H7v-7h2v7zm4 0h-2V7h2v10zm4 0h-2v-4h2v4z\"/>\n",
              "    </g>\n",
              "</svg>\n",
              "  </button>\n",
              "\n",
              "<style>\n",
              "  .colab-df-quickchart {\n",
              "      --bg-color: #E8F0FE;\n",
              "      --fill-color: #1967D2;\n",
              "      --hover-bg-color: #E2EBFA;\n",
              "      --hover-fill-color: #174EA6;\n",
              "      --disabled-fill-color: #AAA;\n",
              "      --disabled-bg-color: #DDD;\n",
              "  }\n",
              "\n",
              "  [theme=dark] .colab-df-quickchart {\n",
              "      --bg-color: #3B4455;\n",
              "      --fill-color: #D2E3FC;\n",
              "      --hover-bg-color: #434B5C;\n",
              "      --hover-fill-color: #FFFFFF;\n",
              "      --disabled-bg-color: #3B4455;\n",
              "      --disabled-fill-color: #666;\n",
              "  }\n",
              "\n",
              "  .colab-df-quickchart {\n",
              "    background-color: var(--bg-color);\n",
              "    border: none;\n",
              "    border-radius: 50%;\n",
              "    cursor: pointer;\n",
              "    display: none;\n",
              "    fill: var(--fill-color);\n",
              "    height: 32px;\n",
              "    padding: 0;\n",
              "    width: 32px;\n",
              "  }\n",
              "\n",
              "  .colab-df-quickchart:hover {\n",
              "    background-color: var(--hover-bg-color);\n",
              "    box-shadow: 0 1px 2px rgba(60, 64, 67, 0.3), 0 1px 3px 1px rgba(60, 64, 67, 0.15);\n",
              "    fill: var(--button-hover-fill-color);\n",
              "  }\n",
              "\n",
              "  .colab-df-quickchart-complete:disabled,\n",
              "  .colab-df-quickchart-complete:disabled:hover {\n",
              "    background-color: var(--disabled-bg-color);\n",
              "    fill: var(--disabled-fill-color);\n",
              "    box-shadow: none;\n",
              "  }\n",
              "\n",
              "  .colab-df-spinner {\n",
              "    border: 2px solid var(--fill-color);\n",
              "    border-color: transparent;\n",
              "    border-bottom-color: var(--fill-color);\n",
              "    animation:\n",
              "      spin 1s steps(1) infinite;\n",
              "  }\n",
              "\n",
              "  @keyframes spin {\n",
              "    0% {\n",
              "      border-color: transparent;\n",
              "      border-bottom-color: var(--fill-color);\n",
              "      border-left-color: var(--fill-color);\n",
              "    }\n",
              "    20% {\n",
              "      border-color: transparent;\n",
              "      border-left-color: var(--fill-color);\n",
              "      border-top-color: var(--fill-color);\n",
              "    }\n",
              "    30% {\n",
              "      border-color: transparent;\n",
              "      border-left-color: var(--fill-color);\n",
              "      border-top-color: var(--fill-color);\n",
              "      border-right-color: var(--fill-color);\n",
              "    }\n",
              "    40% {\n",
              "      border-color: transparent;\n",
              "      border-right-color: var(--fill-color);\n",
              "      border-top-color: var(--fill-color);\n",
              "    }\n",
              "    60% {\n",
              "      border-color: transparent;\n",
              "      border-right-color: var(--fill-color);\n",
              "    }\n",
              "    80% {\n",
              "      border-color: transparent;\n",
              "      border-right-color: var(--fill-color);\n",
              "      border-bottom-color: var(--fill-color);\n",
              "    }\n",
              "    90% {\n",
              "      border-color: transparent;\n",
              "      border-bottom-color: var(--fill-color);\n",
              "    }\n",
              "  }\n",
              "</style>\n",
              "\n",
              "  <script>\n",
              "    async function quickchart(key) {\n",
              "      const quickchartButtonEl =\n",
              "        document.querySelector('#' + key + ' button');\n",
              "      quickchartButtonEl.disabled = true;  // To prevent multiple clicks.\n",
              "      quickchartButtonEl.classList.add('colab-df-spinner');\n",
              "      try {\n",
              "        const charts = await google.colab.kernel.invokeFunction(\n",
              "            'suggestCharts', [key], {});\n",
              "      } catch (error) {\n",
              "        console.error('Error during call to suggestCharts:', error);\n",
              "      }\n",
              "      quickchartButtonEl.classList.remove('colab-df-spinner');\n",
              "      quickchartButtonEl.classList.add('colab-df-quickchart-complete');\n",
              "    }\n",
              "    (() => {\n",
              "      let quickchartButtonEl =\n",
              "        document.querySelector('#df-55cb8a2a-96ff-470e-820c-b8555efff67b button');\n",
              "      quickchartButtonEl.style.display =\n",
              "        google.colab.kernel.accessAllowed ? 'block' : 'none';\n",
              "    })();\n",
              "  </script>\n",
              "</div>\n",
              "\n",
              "    </div>\n",
              "  </div>\n"
            ],
            "application/vnd.google.colaboratory.intrinsic+json": {
              "type": "dataframe",
              "summary": "{\n  \"name\": \"# Mengubah sparse matrix menjadi array untuk memudahkan analisis dan visualisasi\",\n  \"rows\": 3,\n  \"fields\": [\n    {\n      \"column\": \"amazing\",\n      \"properties\": {\n        \"dtype\": \"number\",\n        \"std\": 0,\n        \"min\": 0,\n        \"max\": 1,\n        \"num_unique_values\": 2,\n        \"samples\": [\n          0,\n          1\n        ],\n        \"semantic_type\": \"\",\n        \"description\": \"\"\n      }\n    },\n    {\n      \"column\": \"channel\",\n      \"properties\": {\n        \"dtype\": \"number\",\n        \"std\": 0,\n        \"min\": 0,\n        \"max\": 1,\n        \"num_unique_values\": 2,\n        \"samples\": [\n          1,\n          0\n        ],\n        \"semantic_type\": \"\",\n        \"description\": \"\"\n      }\n    },\n    {\n      \"column\": \"check\",\n      \"properties\": {\n        \"dtype\": \"number\",\n        \"std\": 0,\n        \"min\": 0,\n        \"max\": 1,\n        \"num_unique_values\": 2,\n        \"samples\": [\n          1,\n          0\n        ],\n        \"semantic_type\": \"\",\n        \"description\": \"\"\n      }\n    },\n    {\n      \"column\": \"my\",\n      \"properties\": {\n        \"dtype\": \"number\",\n        \"std\": 0,\n        \"min\": 0,\n        \"max\": 1,\n        \"num_unique_values\": 2,\n        \"samples\": [\n          1,\n          0\n        ],\n        \"semantic_type\": \"\",\n        \"description\": \"\"\n      }\n    },\n    {\n      \"column\": \"new\",\n      \"properties\": {\n        \"dtype\": \"number\",\n        \"std\": 0,\n        \"min\": 0,\n        \"max\": 1,\n        \"num_unique_values\": 2,\n        \"samples\": [\n          1,\n          0\n        ],\n        \"semantic_type\": \"\",\n        \"description\": \"\"\n      }\n    },\n    {\n      \"column\": \"out\",\n      \"properties\": {\n        \"dtype\": \"number\",\n        \"std\": 0,\n        \"min\": 0,\n        \"max\": 1,\n        \"num_unique_values\": 2,\n        \"samples\": [\n          1,\n          0\n        ],\n        \"semantic_type\": \"\",\n        \"description\": \"\"\n      }\n    },\n    {\n      \"column\": \"subscribe\",\n      \"properties\": {\n        \"dtype\": \"number\",\n        \"std\": 0,\n        \"min\": 0,\n        \"max\": 1,\n        \"num_unique_values\": 2,\n        \"samples\": [\n          1,\n          0\n        ],\n        \"semantic_type\": \"\",\n        \"description\": \"\"\n      }\n    },\n    {\n      \"column\": \"this\",\n      \"properties\": {\n        \"dtype\": \"number\",\n        \"std\": 0,\n        \"min\": 0,\n        \"max\": 1,\n        \"num_unique_values\": 2,\n        \"samples\": [\n          0,\n          1\n        ],\n        \"semantic_type\": \"\",\n        \"description\": \"\"\n      }\n    },\n    {\n      \"column\": \"to\",\n      \"properties\": {\n        \"dtype\": \"number\",\n        \"std\": 0,\n        \"min\": 0,\n        \"max\": 1,\n        \"num_unique_values\": 2,\n        \"samples\": [\n          1,\n          0\n        ],\n        \"semantic_type\": \"\",\n        \"description\": \"\"\n      }\n    },\n    {\n      \"column\": \"video\",\n      \"properties\": {\n        \"dtype\": \"number\",\n        \"std\": 0,\n        \"min\": 0,\n        \"max\": 1,\n        \"num_unique_values\": 2,\n        \"samples\": [\n          0,\n          1\n        ],\n        \"semantic_type\": \"\",\n        \"description\": \"\"\n      }\n    },\n    {\n      \"column\": \"vlog\",\n      \"properties\": {\n        \"dtype\": \"number\",\n        \"std\": 0,\n        \"min\": 0,\n        \"max\": 1,\n        \"num_unique_values\": 2,\n        \"samples\": [\n          1,\n          0\n        ],\n        \"semantic_type\": \"\",\n        \"description\": \"\"\n      }\n    },\n    {\n      \"column\": \"watch\",\n      \"properties\": {\n        \"dtype\": \"number\",\n        \"std\": 0,\n        \"min\": 0,\n        \"max\": 1,\n        \"num_unique_values\": 2,\n        \"samples\": [\n          0,\n          1\n        ],\n        \"semantic_type\": \"\",\n        \"description\": \"\"\n      }\n    }\n  ]\n}"
            }
          },
          "metadata": {},
          "execution_count": 36
        }
      ]
    },
    {
      "cell_type": "code",
      "source": [
        "# Contoh komentar baru\n",
        "\n",
        "new_comment = [\"i love this music video\"]"
      ],
      "metadata": {
        "id": "mGsY6z9KFVNx"
      },
      "execution_count": 37,
      "outputs": []
    },
    {
      "cell_type": "code",
      "source": [
        "# Transformasikan komentar baru ke dalam matriks\n",
        "\n",
        "new_comment_mat = vect.transform(new_comment)\n",
        "# transform dari objek CountVectorizer digunakan untuk mengubah komentar baru menjadi vektor frekuensi kata berdasarkan vocabulary yang telah dipelajari dari data sebelumnya.\n",
        "# new_comment_mat sebuah sparse matrix yang berisi frekuensi kemunculan kata dari new_comment"
      ],
      "metadata": {
        "id": "hfVKOEY0FYSt"
      },
      "execution_count": 38,
      "outputs": []
    },
    {
      "cell_type": "code",
      "source": [
        "# Melihat vektor yang dibuat\n",
        "\n",
        "pd.DataFrame(new_comment_mat.toarray(), columns=vect.get_feature_names_out())\n",
        "#  Fungsi toarray() digunakan untuk mengubah sparse matrix menjadi dense matrix (array penuh)\n",
        "# Membuat DataFrame dari array yang dihasilkan dan menambahkan nama kolom yang sesuai dengan vocabulary menggunakan vect.get_feature_names_out()."
      ],
      "metadata": {
        "colab": {
          "base_uri": "https://localhost:8080/",
          "height": 80
        },
        "id": "lwgnKYWBFbB7",
        "outputId": "bf4ce6be-529f-4ef2-c891-14b58c502070"
      },
      "execution_count": 39,
      "outputs": [
        {
          "output_type": "execute_result",
          "data": {
            "text/plain": [
              "   amazing  channel  check  my  new  out  subscribe  this  to  video  vlog  \\\n",
              "0        0        0      0   0    0    0          0     1   0      1     0   \n",
              "\n",
              "   watch  \n",
              "0      0  "
            ],
            "text/html": [
              "\n",
              "  <div id=\"df-640207e1-c9c0-40d6-92c4-925c388ac8ef\" class=\"colab-df-container\">\n",
              "    <div>\n",
              "<style scoped>\n",
              "    .dataframe tbody tr th:only-of-type {\n",
              "        vertical-align: middle;\n",
              "    }\n",
              "\n",
              "    .dataframe tbody tr th {\n",
              "        vertical-align: top;\n",
              "    }\n",
              "\n",
              "    .dataframe thead th {\n",
              "        text-align: right;\n",
              "    }\n",
              "</style>\n",
              "<table border=\"1\" class=\"dataframe\">\n",
              "  <thead>\n",
              "    <tr style=\"text-align: right;\">\n",
              "      <th></th>\n",
              "      <th>amazing</th>\n",
              "      <th>channel</th>\n",
              "      <th>check</th>\n",
              "      <th>my</th>\n",
              "      <th>new</th>\n",
              "      <th>out</th>\n",
              "      <th>subscribe</th>\n",
              "      <th>this</th>\n",
              "      <th>to</th>\n",
              "      <th>video</th>\n",
              "      <th>vlog</th>\n",
              "      <th>watch</th>\n",
              "    </tr>\n",
              "  </thead>\n",
              "  <tbody>\n",
              "    <tr>\n",
              "      <th>0</th>\n",
              "      <td>0</td>\n",
              "      <td>0</td>\n",
              "      <td>0</td>\n",
              "      <td>0</td>\n",
              "      <td>0</td>\n",
              "      <td>0</td>\n",
              "      <td>0</td>\n",
              "      <td>1</td>\n",
              "      <td>0</td>\n",
              "      <td>1</td>\n",
              "      <td>0</td>\n",
              "      <td>0</td>\n",
              "    </tr>\n",
              "  </tbody>\n",
              "</table>\n",
              "</div>\n",
              "    <div class=\"colab-df-buttons\">\n",
              "\n",
              "  <div class=\"colab-df-container\">\n",
              "    <button class=\"colab-df-convert\" onclick=\"convertToInteractive('df-640207e1-c9c0-40d6-92c4-925c388ac8ef')\"\n",
              "            title=\"Convert this dataframe to an interactive table.\"\n",
              "            style=\"display:none;\">\n",
              "\n",
              "  <svg xmlns=\"http://www.w3.org/2000/svg\" height=\"24px\" viewBox=\"0 -960 960 960\">\n",
              "    <path d=\"M120-120v-720h720v720H120Zm60-500h600v-160H180v160Zm220 220h160v-160H400v160Zm0 220h160v-160H400v160ZM180-400h160v-160H180v160Zm440 0h160v-160H620v160ZM180-180h160v-160H180v160Zm440 0h160v-160H620v160Z\"/>\n",
              "  </svg>\n",
              "    </button>\n",
              "\n",
              "  <style>\n",
              "    .colab-df-container {\n",
              "      display:flex;\n",
              "      gap: 12px;\n",
              "    }\n",
              "\n",
              "    .colab-df-convert {\n",
              "      background-color: #E8F0FE;\n",
              "      border: none;\n",
              "      border-radius: 50%;\n",
              "      cursor: pointer;\n",
              "      display: none;\n",
              "      fill: #1967D2;\n",
              "      height: 32px;\n",
              "      padding: 0 0 0 0;\n",
              "      width: 32px;\n",
              "    }\n",
              "\n",
              "    .colab-df-convert:hover {\n",
              "      background-color: #E2EBFA;\n",
              "      box-shadow: 0px 1px 2px rgba(60, 64, 67, 0.3), 0px 1px 3px 1px rgba(60, 64, 67, 0.15);\n",
              "      fill: #174EA6;\n",
              "    }\n",
              "\n",
              "    .colab-df-buttons div {\n",
              "      margin-bottom: 4px;\n",
              "    }\n",
              "\n",
              "    [theme=dark] .colab-df-convert {\n",
              "      background-color: #3B4455;\n",
              "      fill: #D2E3FC;\n",
              "    }\n",
              "\n",
              "    [theme=dark] .colab-df-convert:hover {\n",
              "      background-color: #434B5C;\n",
              "      box-shadow: 0px 1px 3px 1px rgba(0, 0, 0, 0.15);\n",
              "      filter: drop-shadow(0px 1px 2px rgba(0, 0, 0, 0.3));\n",
              "      fill: #FFFFFF;\n",
              "    }\n",
              "  </style>\n",
              "\n",
              "    <script>\n",
              "      const buttonEl =\n",
              "        document.querySelector('#df-640207e1-c9c0-40d6-92c4-925c388ac8ef button.colab-df-convert');\n",
              "      buttonEl.style.display =\n",
              "        google.colab.kernel.accessAllowed ? 'block' : 'none';\n",
              "\n",
              "      async function convertToInteractive(key) {\n",
              "        const element = document.querySelector('#df-640207e1-c9c0-40d6-92c4-925c388ac8ef');\n",
              "        const dataTable =\n",
              "          await google.colab.kernel.invokeFunction('convertToInteractive',\n",
              "                                                    [key], {});\n",
              "        if (!dataTable) return;\n",
              "\n",
              "        const docLinkHtml = 'Like what you see? Visit the ' +\n",
              "          '<a target=\"_blank\" href=https://colab.research.google.com/notebooks/data_table.ipynb>data table notebook</a>'\n",
              "          + ' to learn more about interactive tables.';\n",
              "        element.innerHTML = '';\n",
              "        dataTable['output_type'] = 'display_data';\n",
              "        await google.colab.output.renderOutput(dataTable, element);\n",
              "        const docLink = document.createElement('div');\n",
              "        docLink.innerHTML = docLinkHtml;\n",
              "        element.appendChild(docLink);\n",
              "      }\n",
              "    </script>\n",
              "  </div>\n",
              "\n",
              "\n",
              "    </div>\n",
              "  </div>\n"
            ],
            "application/vnd.google.colaboratory.intrinsic+json": {
              "type": "dataframe",
              "summary": "{\n  \"name\": \"# Membuat DataFrame dari array yang dihasilkan dan menambahkan nama kolom yang sesuai dengan vocabulary menggunakan vect\",\n  \"rows\": 1,\n  \"fields\": [\n    {\n      \"column\": \"amazing\",\n      \"properties\": {\n        \"dtype\": \"number\",\n        \"std\": null,\n        \"min\": 0,\n        \"max\": 0,\n        \"num_unique_values\": 1,\n        \"samples\": [\n          0\n        ],\n        \"semantic_type\": \"\",\n        \"description\": \"\"\n      }\n    },\n    {\n      \"column\": \"channel\",\n      \"properties\": {\n        \"dtype\": \"number\",\n        \"std\": null,\n        \"min\": 0,\n        \"max\": 0,\n        \"num_unique_values\": 1,\n        \"samples\": [\n          0\n        ],\n        \"semantic_type\": \"\",\n        \"description\": \"\"\n      }\n    },\n    {\n      \"column\": \"check\",\n      \"properties\": {\n        \"dtype\": \"number\",\n        \"std\": null,\n        \"min\": 0,\n        \"max\": 0,\n        \"num_unique_values\": 1,\n        \"samples\": [\n          0\n        ],\n        \"semantic_type\": \"\",\n        \"description\": \"\"\n      }\n    },\n    {\n      \"column\": \"my\",\n      \"properties\": {\n        \"dtype\": \"number\",\n        \"std\": null,\n        \"min\": 0,\n        \"max\": 0,\n        \"num_unique_values\": 1,\n        \"samples\": [\n          0\n        ],\n        \"semantic_type\": \"\",\n        \"description\": \"\"\n      }\n    },\n    {\n      \"column\": \"new\",\n      \"properties\": {\n        \"dtype\": \"number\",\n        \"std\": null,\n        \"min\": 0,\n        \"max\": 0,\n        \"num_unique_values\": 1,\n        \"samples\": [\n          0\n        ],\n        \"semantic_type\": \"\",\n        \"description\": \"\"\n      }\n    },\n    {\n      \"column\": \"out\",\n      \"properties\": {\n        \"dtype\": \"number\",\n        \"std\": null,\n        \"min\": 0,\n        \"max\": 0,\n        \"num_unique_values\": 1,\n        \"samples\": [\n          0\n        ],\n        \"semantic_type\": \"\",\n        \"description\": \"\"\n      }\n    },\n    {\n      \"column\": \"subscribe\",\n      \"properties\": {\n        \"dtype\": \"number\",\n        \"std\": null,\n        \"min\": 0,\n        \"max\": 0,\n        \"num_unique_values\": 1,\n        \"samples\": [\n          0\n        ],\n        \"semantic_type\": \"\",\n        \"description\": \"\"\n      }\n    },\n    {\n      \"column\": \"this\",\n      \"properties\": {\n        \"dtype\": \"number\",\n        \"std\": null,\n        \"min\": 1,\n        \"max\": 1,\n        \"num_unique_values\": 1,\n        \"samples\": [\n          1\n        ],\n        \"semantic_type\": \"\",\n        \"description\": \"\"\n      }\n    },\n    {\n      \"column\": \"to\",\n      \"properties\": {\n        \"dtype\": \"number\",\n        \"std\": null,\n        \"min\": 0,\n        \"max\": 0,\n        \"num_unique_values\": 1,\n        \"samples\": [\n          0\n        ],\n        \"semantic_type\": \"\",\n        \"description\": \"\"\n      }\n    },\n    {\n      \"column\": \"video\",\n      \"properties\": {\n        \"dtype\": \"number\",\n        \"std\": null,\n        \"min\": 1,\n        \"max\": 1,\n        \"num_unique_values\": 1,\n        \"samples\": [\n          1\n        ],\n        \"semantic_type\": \"\",\n        \"description\": \"\"\n      }\n    },\n    {\n      \"column\": \"vlog\",\n      \"properties\": {\n        \"dtype\": \"number\",\n        \"std\": null,\n        \"min\": 0,\n        \"max\": 0,\n        \"num_unique_values\": 1,\n        \"samples\": [\n          0\n        ],\n        \"semantic_type\": \"\",\n        \"description\": \"\"\n      }\n    },\n    {\n      \"column\": \"watch\",\n      \"properties\": {\n        \"dtype\": \"number\",\n        \"std\": null,\n        \"min\": 0,\n        \"max\": 0,\n        \"num_unique_values\": 1,\n        \"samples\": [\n          0\n        ],\n        \"semantic_type\": \"\",\n        \"description\": \"\"\n      }\n    }\n  ]\n}"
            }
          },
          "metadata": {},
          "execution_count": 39
        }
      ]
    },
    {
      "cell_type": "markdown",
      "source": [
        "# Modelling"
      ],
      "metadata": {
        "id": "VXE7WYOHElVo"
      }
    },
    {
      "cell_type": "markdown",
      "source": [
        "## Background\n",
        "\n",
        "YouTube merupakan platform video terbesar dan paling banyak digunakan di dunia, menjadikannya sebagai alat pemasaran yang sangat berharga bagi perusahaan. Dengan miliaran pengguna aktif yang menonton dan berinteraksi dengan konten setiap hari, YouTube menawarkan peluang besar untuk menjangkau audiens yang luas melalui iklan dan promosi. Namun, tantangan utama dalam memanfaatkan platform ini adalah memastikan bahwa iklan dan konten perusahaan tidak terganggu oleh komentar spam.\n",
        "\n",
        "Komentar spam, yang dapat berupa promosi tidak relevan, tautan berbahaya, atau kritik yang merusak, sering kali mengganggu pengalaman pengguna dan dapat menurunkan kualitas diskusi di bawah video. Selain itu, komentar spam dapat menciptakan citra negatif bagi merek yang diiklankan, mempengaruhi persepsi audiens terhadap perusahaan. Oleh karena itu, deteksi dan penghapusan komentar spam menjadi krusial untuk menjaga integritas interaksi di platform. Dengan menggunakan teknik pembelajaran mesin dan pemrosesan bahasa alami, perusahaan dapat secara efektif mengidentifikasi dan memfilter spam, memastikan bahwa iklan mereka tampil dalam konteks yang positif dan relevan"
      ],
      "metadata": {
        "id": "uB8KmTpOINAk"
      }
    },
    {
      "cell_type": "markdown",
      "source": [
        "## Metadata\n",
        "\n",
        "- COMMENT_ID:ID unik untuk setiap komentar.\n",
        "- AUTHOR: Nama pengguna atau penulis komentar.\n",
        "- DATE: Tanggal dan waktu saat komentar diposting. Formatnya bisa beragam, misalnya ada yang berupa tanggal saja dan ada yang berupa timestamp lengkap.\n",
        "- CONTENT:Isi atau teks dari komentar yang diposting.\n",
        "- CLASS:Label yang menunjukkan apakah komentar tersebut adalah spam (1) atau non-spam (0)."
      ],
      "metadata": {
        "id": "dw1uFbAZIRMs"
      }
    },
    {
      "cell_type": "markdown",
      "source": [
        "## Data Loading"
      ],
      "metadata": {
        "id": "muHcdUY39Prl"
      }
    },
    {
      "cell_type": "code",
      "source": [
        "from google.colab import files\n",
        "upload=files.upload()"
      ],
      "metadata": {
        "colab": {
          "base_uri": "https://localhost:8080/",
          "height": 73
        },
        "id": "bIeLWmg_9mt7",
        "outputId": "b8e11d23-0630-44a3-b80b-5429232289a9"
      },
      "execution_count": 1,
      "outputs": [
        {
          "output_type": "display_data",
          "data": {
            "text/plain": [
              "<IPython.core.display.HTML object>"
            ],
            "text/html": [
              "\n",
              "     <input type=\"file\" id=\"files-5d4f2521-c6ba-449d-a2cd-7d48ea1310e5\" name=\"files[]\" multiple disabled\n",
              "        style=\"border:none\" />\n",
              "     <output id=\"result-5d4f2521-c6ba-449d-a2cd-7d48ea1310e5\">\n",
              "      Upload widget is only available when the cell has been executed in the\n",
              "      current browser session. Please rerun this cell to enable.\n",
              "      </output>\n",
              "      <script>// Copyright 2017 Google LLC\n",
              "//\n",
              "// Licensed under the Apache License, Version 2.0 (the \"License\");\n",
              "// you may not use this file except in compliance with the License.\n",
              "// You may obtain a copy of the License at\n",
              "//\n",
              "//      http://www.apache.org/licenses/LICENSE-2.0\n",
              "//\n",
              "// Unless required by applicable law or agreed to in writing, software\n",
              "// distributed under the License is distributed on an \"AS IS\" BASIS,\n",
              "// WITHOUT WARRANTIES OR CONDITIONS OF ANY KIND, either express or implied.\n",
              "// See the License for the specific language governing permissions and\n",
              "// limitations under the License.\n",
              "\n",
              "/**\n",
              " * @fileoverview Helpers for google.colab Python module.\n",
              " */\n",
              "(function(scope) {\n",
              "function span(text, styleAttributes = {}) {\n",
              "  const element = document.createElement('span');\n",
              "  element.textContent = text;\n",
              "  for (const key of Object.keys(styleAttributes)) {\n",
              "    element.style[key] = styleAttributes[key];\n",
              "  }\n",
              "  return element;\n",
              "}\n",
              "\n",
              "// Max number of bytes which will be uploaded at a time.\n",
              "const MAX_PAYLOAD_SIZE = 100 * 1024;\n",
              "\n",
              "function _uploadFiles(inputId, outputId) {\n",
              "  const steps = uploadFilesStep(inputId, outputId);\n",
              "  const outputElement = document.getElementById(outputId);\n",
              "  // Cache steps on the outputElement to make it available for the next call\n",
              "  // to uploadFilesContinue from Python.\n",
              "  outputElement.steps = steps;\n",
              "\n",
              "  return _uploadFilesContinue(outputId);\n",
              "}\n",
              "\n",
              "// This is roughly an async generator (not supported in the browser yet),\n",
              "// where there are multiple asynchronous steps and the Python side is going\n",
              "// to poll for completion of each step.\n",
              "// This uses a Promise to block the python side on completion of each step,\n",
              "// then passes the result of the previous step as the input to the next step.\n",
              "function _uploadFilesContinue(outputId) {\n",
              "  const outputElement = document.getElementById(outputId);\n",
              "  const steps = outputElement.steps;\n",
              "\n",
              "  const next = steps.next(outputElement.lastPromiseValue);\n",
              "  return Promise.resolve(next.value.promise).then((value) => {\n",
              "    // Cache the last promise value to make it available to the next\n",
              "    // step of the generator.\n",
              "    outputElement.lastPromiseValue = value;\n",
              "    return next.value.response;\n",
              "  });\n",
              "}\n",
              "\n",
              "/**\n",
              " * Generator function which is called between each async step of the upload\n",
              " * process.\n",
              " * @param {string} inputId Element ID of the input file picker element.\n",
              " * @param {string} outputId Element ID of the output display.\n",
              " * @return {!Iterable<!Object>} Iterable of next steps.\n",
              " */\n",
              "function* uploadFilesStep(inputId, outputId) {\n",
              "  const inputElement = document.getElementById(inputId);\n",
              "  inputElement.disabled = false;\n",
              "\n",
              "  const outputElement = document.getElementById(outputId);\n",
              "  outputElement.innerHTML = '';\n",
              "\n",
              "  const pickedPromise = new Promise((resolve) => {\n",
              "    inputElement.addEventListener('change', (e) => {\n",
              "      resolve(e.target.files);\n",
              "    });\n",
              "  });\n",
              "\n",
              "  const cancel = document.createElement('button');\n",
              "  inputElement.parentElement.appendChild(cancel);\n",
              "  cancel.textContent = 'Cancel upload';\n",
              "  const cancelPromise = new Promise((resolve) => {\n",
              "    cancel.onclick = () => {\n",
              "      resolve(null);\n",
              "    };\n",
              "  });\n",
              "\n",
              "  // Wait for the user to pick the files.\n",
              "  const files = yield {\n",
              "    promise: Promise.race([pickedPromise, cancelPromise]),\n",
              "    response: {\n",
              "      action: 'starting',\n",
              "    }\n",
              "  };\n",
              "\n",
              "  cancel.remove();\n",
              "\n",
              "  // Disable the input element since further picks are not allowed.\n",
              "  inputElement.disabled = true;\n",
              "\n",
              "  if (!files) {\n",
              "    return {\n",
              "      response: {\n",
              "        action: 'complete',\n",
              "      }\n",
              "    };\n",
              "  }\n",
              "\n",
              "  for (const file of files) {\n",
              "    const li = document.createElement('li');\n",
              "    li.append(span(file.name, {fontWeight: 'bold'}));\n",
              "    li.append(span(\n",
              "        `(${file.type || 'n/a'}) - ${file.size} bytes, ` +\n",
              "        `last modified: ${\n",
              "            file.lastModifiedDate ? file.lastModifiedDate.toLocaleDateString() :\n",
              "                                    'n/a'} - `));\n",
              "    const percent = span('0% done');\n",
              "    li.appendChild(percent);\n",
              "\n",
              "    outputElement.appendChild(li);\n",
              "\n",
              "    const fileDataPromise = new Promise((resolve) => {\n",
              "      const reader = new FileReader();\n",
              "      reader.onload = (e) => {\n",
              "        resolve(e.target.result);\n",
              "      };\n",
              "      reader.readAsArrayBuffer(file);\n",
              "    });\n",
              "    // Wait for the data to be ready.\n",
              "    let fileData = yield {\n",
              "      promise: fileDataPromise,\n",
              "      response: {\n",
              "        action: 'continue',\n",
              "      }\n",
              "    };\n",
              "\n",
              "    // Use a chunked sending to avoid message size limits. See b/62115660.\n",
              "    let position = 0;\n",
              "    do {\n",
              "      const length = Math.min(fileData.byteLength - position, MAX_PAYLOAD_SIZE);\n",
              "      const chunk = new Uint8Array(fileData, position, length);\n",
              "      position += length;\n",
              "\n",
              "      const base64 = btoa(String.fromCharCode.apply(null, chunk));\n",
              "      yield {\n",
              "        response: {\n",
              "          action: 'append',\n",
              "          file: file.name,\n",
              "          data: base64,\n",
              "        },\n",
              "      };\n",
              "\n",
              "      let percentDone = fileData.byteLength === 0 ?\n",
              "          100 :\n",
              "          Math.round((position / fileData.byteLength) * 100);\n",
              "      percent.textContent = `${percentDone}% done`;\n",
              "\n",
              "    } while (position < fileData.byteLength);\n",
              "  }\n",
              "\n",
              "  // All done.\n",
              "  yield {\n",
              "    response: {\n",
              "      action: 'complete',\n",
              "    }\n",
              "  };\n",
              "}\n",
              "\n",
              "scope.google = scope.google || {};\n",
              "scope.google.colab = scope.google.colab || {};\n",
              "scope.google.colab._files = {\n",
              "  _uploadFiles,\n",
              "  _uploadFilesContinue,\n",
              "};\n",
              "})(self);\n",
              "</script> "
            ]
          },
          "metadata": {}
        },
        {
          "output_type": "stream",
          "name": "stdout",
          "text": [
            "Saving Youtube05-Shakira.csv to Youtube05-Shakira.csv\n"
          ]
        }
      ]
    },
    {
      "cell_type": "code",
      "source": [
        "import pandas as pd\n",
        "\n",
        "df = pd.read_csv('Youtube05-Shakira.csv')\n",
        "df.head(7)"
      ],
      "metadata": {
        "colab": {
          "base_uri": "https://localhost:8080/",
          "height": 269
        },
        "id": "aCsKXkHD9wyi",
        "outputId": "50738447-6f06-4695-b343-954723b33f18"
      },
      "execution_count": 2,
      "outputs": [
        {
          "output_type": "execute_result",
          "data": {
            "text/plain": [
              "                              COMMENT_ID                              AUTHOR  \\\n",
              "0    z13lgffb5w3ddx1ul22qy1wxspy5cpkz504                          dharma pal   \n",
              "1      z123dbgb0mqjfxbtz22ucjc5jvzcv3ykj                       Tiza Arellano   \n",
              "2  z12quxxp2vutflkxv04cihggzt2azl34pms0k  Prìñçeśś Âliś Łøvê Dømíñø Mâđiś™ ﻿   \n",
              "3      z12icv3ysqvlwth2c23eddlykyqut5z1h                       Eric Gonzalez   \n",
              "4      z133stly3kete3tly22petvwdpmghrlli                       Analena López   \n",
              "5      z12myn4rltf4ejddv23mwr3piuapcbl0r                 jehoiada wellington   \n",
              "6      z135vzqy1yrjhluew23kibopnrmqsplux                    Kara Cuthbertson   \n",
              "\n",
              "                         DATE  \\\n",
              "0  2015-05-29T02:30:18.971000   \n",
              "1  2015-05-29T00:14:48.748000   \n",
              "2  2015-05-28T21:00:08.607000   \n",
              "3  2015-05-28T20:47:12.193000   \n",
              "4  2015-05-28T17:08:29.827000   \n",
              "5  2015-05-28T17:06:37.288000   \n",
              "6  2015-05-28T15:46:42.482000   \n",
              "\n",
              "                                             CONTENT  CLASS  \n",
              "0                                         Nice song﻿      0  \n",
              "1                                      I love song ﻿      0  \n",
              "2                                      I love song ﻿      0  \n",
              "3  860,000,000 lets make it first female to reach...      0  \n",
              "4                      shakira is best for worldcup﻿      0  \n",
              "5                  The best world cup song ever!!!!﻿      0  \n",
              "6                                            I love﻿      0  "
            ],
            "text/html": [
              "\n",
              "  <div id=\"df-c73bfe79-94a2-4b57-b5d4-e1e791e9d1bf\" class=\"colab-df-container\">\n",
              "    <div>\n",
              "<style scoped>\n",
              "    .dataframe tbody tr th:only-of-type {\n",
              "        vertical-align: middle;\n",
              "    }\n",
              "\n",
              "    .dataframe tbody tr th {\n",
              "        vertical-align: top;\n",
              "    }\n",
              "\n",
              "    .dataframe thead th {\n",
              "        text-align: right;\n",
              "    }\n",
              "</style>\n",
              "<table border=\"1\" class=\"dataframe\">\n",
              "  <thead>\n",
              "    <tr style=\"text-align: right;\">\n",
              "      <th></th>\n",
              "      <th>COMMENT_ID</th>\n",
              "      <th>AUTHOR</th>\n",
              "      <th>DATE</th>\n",
              "      <th>CONTENT</th>\n",
              "      <th>CLASS</th>\n",
              "    </tr>\n",
              "  </thead>\n",
              "  <tbody>\n",
              "    <tr>\n",
              "      <th>0</th>\n",
              "      <td>z13lgffb5w3ddx1ul22qy1wxspy5cpkz504</td>\n",
              "      <td>dharma pal</td>\n",
              "      <td>2015-05-29T02:30:18.971000</td>\n",
              "      <td>Nice song﻿</td>\n",
              "      <td>0</td>\n",
              "    </tr>\n",
              "    <tr>\n",
              "      <th>1</th>\n",
              "      <td>z123dbgb0mqjfxbtz22ucjc5jvzcv3ykj</td>\n",
              "      <td>Tiza Arellano</td>\n",
              "      <td>2015-05-29T00:14:48.748000</td>\n",
              "      <td>I love song ﻿</td>\n",
              "      <td>0</td>\n",
              "    </tr>\n",
              "    <tr>\n",
              "      <th>2</th>\n",
              "      <td>z12quxxp2vutflkxv04cihggzt2azl34pms0k</td>\n",
              "      <td>Prìñçeśś Âliś Łøvê Dømíñø Mâđiś™ ﻿</td>\n",
              "      <td>2015-05-28T21:00:08.607000</td>\n",
              "      <td>I love song ﻿</td>\n",
              "      <td>0</td>\n",
              "    </tr>\n",
              "    <tr>\n",
              "      <th>3</th>\n",
              "      <td>z12icv3ysqvlwth2c23eddlykyqut5z1h</td>\n",
              "      <td>Eric Gonzalez</td>\n",
              "      <td>2015-05-28T20:47:12.193000</td>\n",
              "      <td>860,000,000 lets make it first female to reach...</td>\n",
              "      <td>0</td>\n",
              "    </tr>\n",
              "    <tr>\n",
              "      <th>4</th>\n",
              "      <td>z133stly3kete3tly22petvwdpmghrlli</td>\n",
              "      <td>Analena López</td>\n",
              "      <td>2015-05-28T17:08:29.827000</td>\n",
              "      <td>shakira is best for worldcup﻿</td>\n",
              "      <td>0</td>\n",
              "    </tr>\n",
              "    <tr>\n",
              "      <th>5</th>\n",
              "      <td>z12myn4rltf4ejddv23mwr3piuapcbl0r</td>\n",
              "      <td>jehoiada wellington</td>\n",
              "      <td>2015-05-28T17:06:37.288000</td>\n",
              "      <td>The best world cup song ever!!!!﻿</td>\n",
              "      <td>0</td>\n",
              "    </tr>\n",
              "    <tr>\n",
              "      <th>6</th>\n",
              "      <td>z135vzqy1yrjhluew23kibopnrmqsplux</td>\n",
              "      <td>Kara Cuthbertson</td>\n",
              "      <td>2015-05-28T15:46:42.482000</td>\n",
              "      <td>I love﻿</td>\n",
              "      <td>0</td>\n",
              "    </tr>\n",
              "  </tbody>\n",
              "</table>\n",
              "</div>\n",
              "    <div class=\"colab-df-buttons\">\n",
              "\n",
              "  <div class=\"colab-df-container\">\n",
              "    <button class=\"colab-df-convert\" onclick=\"convertToInteractive('df-c73bfe79-94a2-4b57-b5d4-e1e791e9d1bf')\"\n",
              "            title=\"Convert this dataframe to an interactive table.\"\n",
              "            style=\"display:none;\">\n",
              "\n",
              "  <svg xmlns=\"http://www.w3.org/2000/svg\" height=\"24px\" viewBox=\"0 -960 960 960\">\n",
              "    <path d=\"M120-120v-720h720v720H120Zm60-500h600v-160H180v160Zm220 220h160v-160H400v160Zm0 220h160v-160H400v160ZM180-400h160v-160H180v160Zm440 0h160v-160H620v160ZM180-180h160v-160H180v160Zm440 0h160v-160H620v160Z\"/>\n",
              "  </svg>\n",
              "    </button>\n",
              "\n",
              "  <style>\n",
              "    .colab-df-container {\n",
              "      display:flex;\n",
              "      gap: 12px;\n",
              "    }\n",
              "\n",
              "    .colab-df-convert {\n",
              "      background-color: #E8F0FE;\n",
              "      border: none;\n",
              "      border-radius: 50%;\n",
              "      cursor: pointer;\n",
              "      display: none;\n",
              "      fill: #1967D2;\n",
              "      height: 32px;\n",
              "      padding: 0 0 0 0;\n",
              "      width: 32px;\n",
              "    }\n",
              "\n",
              "    .colab-df-convert:hover {\n",
              "      background-color: #E2EBFA;\n",
              "      box-shadow: 0px 1px 2px rgba(60, 64, 67, 0.3), 0px 1px 3px 1px rgba(60, 64, 67, 0.15);\n",
              "      fill: #174EA6;\n",
              "    }\n",
              "\n",
              "    .colab-df-buttons div {\n",
              "      margin-bottom: 4px;\n",
              "    }\n",
              "\n",
              "    [theme=dark] .colab-df-convert {\n",
              "      background-color: #3B4455;\n",
              "      fill: #D2E3FC;\n",
              "    }\n",
              "\n",
              "    [theme=dark] .colab-df-convert:hover {\n",
              "      background-color: #434B5C;\n",
              "      box-shadow: 0px 1px 3px 1px rgba(0, 0, 0, 0.15);\n",
              "      filter: drop-shadow(0px 1px 2px rgba(0, 0, 0, 0.3));\n",
              "      fill: #FFFFFF;\n",
              "    }\n",
              "  </style>\n",
              "\n",
              "    <script>\n",
              "      const buttonEl =\n",
              "        document.querySelector('#df-c73bfe79-94a2-4b57-b5d4-e1e791e9d1bf button.colab-df-convert');\n",
              "      buttonEl.style.display =\n",
              "        google.colab.kernel.accessAllowed ? 'block' : 'none';\n",
              "\n",
              "      async function convertToInteractive(key) {\n",
              "        const element = document.querySelector('#df-c73bfe79-94a2-4b57-b5d4-e1e791e9d1bf');\n",
              "        const dataTable =\n",
              "          await google.colab.kernel.invokeFunction('convertToInteractive',\n",
              "                                                    [key], {});\n",
              "        if (!dataTable) return;\n",
              "\n",
              "        const docLinkHtml = 'Like what you see? Visit the ' +\n",
              "          '<a target=\"_blank\" href=https://colab.research.google.com/notebooks/data_table.ipynb>data table notebook</a>'\n",
              "          + ' to learn more about interactive tables.';\n",
              "        element.innerHTML = '';\n",
              "        dataTable['output_type'] = 'display_data';\n",
              "        await google.colab.output.renderOutput(dataTable, element);\n",
              "        const docLink = document.createElement('div');\n",
              "        docLink.innerHTML = docLinkHtml;\n",
              "        element.appendChild(docLink);\n",
              "      }\n",
              "    </script>\n",
              "  </div>\n",
              "\n",
              "\n",
              "<div id=\"df-7fd46b4b-aa23-411b-8300-d2f6a74be032\">\n",
              "  <button class=\"colab-df-quickchart\" onclick=\"quickchart('df-7fd46b4b-aa23-411b-8300-d2f6a74be032')\"\n",
              "            title=\"Suggest charts\"\n",
              "            style=\"display:none;\">\n",
              "\n",
              "<svg xmlns=\"http://www.w3.org/2000/svg\" height=\"24px\"viewBox=\"0 0 24 24\"\n",
              "     width=\"24px\">\n",
              "    <g>\n",
              "        <path d=\"M19 3H5c-1.1 0-2 .9-2 2v14c0 1.1.9 2 2 2h14c1.1 0 2-.9 2-2V5c0-1.1-.9-2-2-2zM9 17H7v-7h2v7zm4 0h-2V7h2v10zm4 0h-2v-4h2v4z\"/>\n",
              "    </g>\n",
              "</svg>\n",
              "  </button>\n",
              "\n",
              "<style>\n",
              "  .colab-df-quickchart {\n",
              "      --bg-color: #E8F0FE;\n",
              "      --fill-color: #1967D2;\n",
              "      --hover-bg-color: #E2EBFA;\n",
              "      --hover-fill-color: #174EA6;\n",
              "      --disabled-fill-color: #AAA;\n",
              "      --disabled-bg-color: #DDD;\n",
              "  }\n",
              "\n",
              "  [theme=dark] .colab-df-quickchart {\n",
              "      --bg-color: #3B4455;\n",
              "      --fill-color: #D2E3FC;\n",
              "      --hover-bg-color: #434B5C;\n",
              "      --hover-fill-color: #FFFFFF;\n",
              "      --disabled-bg-color: #3B4455;\n",
              "      --disabled-fill-color: #666;\n",
              "  }\n",
              "\n",
              "  .colab-df-quickchart {\n",
              "    background-color: var(--bg-color);\n",
              "    border: none;\n",
              "    border-radius: 50%;\n",
              "    cursor: pointer;\n",
              "    display: none;\n",
              "    fill: var(--fill-color);\n",
              "    height: 32px;\n",
              "    padding: 0;\n",
              "    width: 32px;\n",
              "  }\n",
              "\n",
              "  .colab-df-quickchart:hover {\n",
              "    background-color: var(--hover-bg-color);\n",
              "    box-shadow: 0 1px 2px rgba(60, 64, 67, 0.3), 0 1px 3px 1px rgba(60, 64, 67, 0.15);\n",
              "    fill: var(--button-hover-fill-color);\n",
              "  }\n",
              "\n",
              "  .colab-df-quickchart-complete:disabled,\n",
              "  .colab-df-quickchart-complete:disabled:hover {\n",
              "    background-color: var(--disabled-bg-color);\n",
              "    fill: var(--disabled-fill-color);\n",
              "    box-shadow: none;\n",
              "  }\n",
              "\n",
              "  .colab-df-spinner {\n",
              "    border: 2px solid var(--fill-color);\n",
              "    border-color: transparent;\n",
              "    border-bottom-color: var(--fill-color);\n",
              "    animation:\n",
              "      spin 1s steps(1) infinite;\n",
              "  }\n",
              "\n",
              "  @keyframes spin {\n",
              "    0% {\n",
              "      border-color: transparent;\n",
              "      border-bottom-color: var(--fill-color);\n",
              "      border-left-color: var(--fill-color);\n",
              "    }\n",
              "    20% {\n",
              "      border-color: transparent;\n",
              "      border-left-color: var(--fill-color);\n",
              "      border-top-color: var(--fill-color);\n",
              "    }\n",
              "    30% {\n",
              "      border-color: transparent;\n",
              "      border-left-color: var(--fill-color);\n",
              "      border-top-color: var(--fill-color);\n",
              "      border-right-color: var(--fill-color);\n",
              "    }\n",
              "    40% {\n",
              "      border-color: transparent;\n",
              "      border-right-color: var(--fill-color);\n",
              "      border-top-color: var(--fill-color);\n",
              "    }\n",
              "    60% {\n",
              "      border-color: transparent;\n",
              "      border-right-color: var(--fill-color);\n",
              "    }\n",
              "    80% {\n",
              "      border-color: transparent;\n",
              "      border-right-color: var(--fill-color);\n",
              "      border-bottom-color: var(--fill-color);\n",
              "    }\n",
              "    90% {\n",
              "      border-color: transparent;\n",
              "      border-bottom-color: var(--fill-color);\n",
              "    }\n",
              "  }\n",
              "</style>\n",
              "\n",
              "  <script>\n",
              "    async function quickchart(key) {\n",
              "      const quickchartButtonEl =\n",
              "        document.querySelector('#' + key + ' button');\n",
              "      quickchartButtonEl.disabled = true;  // To prevent multiple clicks.\n",
              "      quickchartButtonEl.classList.add('colab-df-spinner');\n",
              "      try {\n",
              "        const charts = await google.colab.kernel.invokeFunction(\n",
              "            'suggestCharts', [key], {});\n",
              "      } catch (error) {\n",
              "        console.error('Error during call to suggestCharts:', error);\n",
              "      }\n",
              "      quickchartButtonEl.classList.remove('colab-df-spinner');\n",
              "      quickchartButtonEl.classList.add('colab-df-quickchart-complete');\n",
              "    }\n",
              "    (() => {\n",
              "      let quickchartButtonEl =\n",
              "        document.querySelector('#df-7fd46b4b-aa23-411b-8300-d2f6a74be032 button');\n",
              "      quickchartButtonEl.style.display =\n",
              "        google.colab.kernel.accessAllowed ? 'block' : 'none';\n",
              "    })();\n",
              "  </script>\n",
              "</div>\n",
              "\n",
              "    </div>\n",
              "  </div>\n"
            ],
            "application/vnd.google.colaboratory.intrinsic+json": {
              "type": "dataframe",
              "variable_name": "df",
              "summary": "{\n  \"name\": \"df\",\n  \"rows\": 370,\n  \"fields\": [\n    {\n      \"column\": \"COMMENT_ID\",\n      \"properties\": {\n        \"dtype\": \"string\",\n        \"num_unique_values\": 369,\n        \"samples\": [\n          \"_2viQ_Qnc6-LyNEXRld9VERRpRICrMPNxpnGjL8ZsF4\",\n          \"z12rihewvsi0fxgui23bi31bulqvfj5vk\",\n          \"z12bhf4rzpjsvjmcw22ghd4j4qeqfthpm04\"\n        ],\n        \"semantic_type\": \"\",\n        \"description\": \"\"\n      }\n    },\n    {\n      \"column\": \"AUTHOR\",\n      \"properties\": {\n        \"dtype\": \"string\",\n        \"num_unique_values\": 319,\n        \"samples\": [\n          \"Athena Gomez\",\n          \"Minh L\\u00fd\",\n          \"Aveonne Walker\"\n        ],\n        \"semantic_type\": \"\",\n        \"description\": \"\"\n      }\n    },\n    {\n      \"column\": \"DATE\",\n      \"properties\": {\n        \"dtype\": \"string\",\n        \"num_unique_values\": 369,\n        \"samples\": [\n          \"2013-08-02T21:02:09.931000\",\n          \"2015-05-26T08:11:50.918000\",\n          \"2015-05-27T13:51:19.674000\"\n        ],\n        \"semantic_type\": \"\",\n        \"description\": \"\"\n      }\n    },\n    {\n      \"column\": \"CONTENT\",\n      \"properties\": {\n        \"dtype\": \"string\",\n        \"num_unique_values\": 331,\n        \"samples\": [\n          \"still watching in 2015...\\ufeff\",\n          \"check out my new video\",\n          \"I love you  ;p\\ufeff\"\n        ],\n        \"semantic_type\": \"\",\n        \"description\": \"\"\n      }\n    },\n    {\n      \"column\": \"CLASS\",\n      \"properties\": {\n        \"dtype\": \"number\",\n        \"std\": 0,\n        \"min\": 0,\n        \"max\": 1,\n        \"num_unique_values\": 2,\n        \"samples\": [\n          1,\n          0\n        ],\n        \"semantic_type\": \"\",\n        \"description\": \"\"\n      }\n    }\n  ]\n}"
            }
          },
          "metadata": {},
          "execution_count": 2
        }
      ]
    },
    {
      "cell_type": "code",
      "source": [
        "# Cek ukuran dataset\n",
        "\n",
        "df.CLASS.value_counts()"
      ],
      "metadata": {
        "colab": {
          "base_uri": "https://localhost:8080/"
        },
        "id": "zBey5Od1-8aE",
        "outputId": "7ba9daf0-6d6b-42bc-ea06-6be07a1c5ebc"
      },
      "execution_count": 3,
      "outputs": [
        {
          "output_type": "execute_result",
          "data": {
            "text/plain": [
              "CLASS\n",
              "0    196\n",
              "1    174\n",
              "Name: count, dtype: int64"
            ]
          },
          "metadata": {},
          "execution_count": 3
        }
      ]
    },
    {
      "cell_type": "code",
      "source": [
        "# Split data menjadi data train dan data test\n",
        "\n",
        "from sklearn.model_selection import train_test_split\n",
        "\n",
        "train_comment, test_comment, train_class, test_class = train_test_split(df.CONTENT, df.CLASS, test_size=0.3, random_state=12)\n"
      ],
      "metadata": {
        "id": "lXfumZgk_Fte"
      },
      "execution_count": 5,
      "outputs": []
    },
    {
      "cell_type": "markdown",
      "source": [
        "- from sklearn.model_selection import train_test_split:\n",
        "\n",
        "Ini adalah baris impor yang mengambil fungsi train_test_split dari modul model_selection dalam pustaka scikit-learn dan train_test_split digunakan untuk membagi dataset menjadi subset pelatihan dan pengujian.\n",
        "\n",
        "- df.CONTENT:\n",
        "\n",
        "Ini adalah kolom dari DataFrame df yang berisi konten ). Kolom ini merupakan fitur yang akan digunakan dalam model machine learning.\n",
        "\n",
        "- df.CLASS:\n",
        "\n",
        "Ini adalah kolom dari DataFrame df yang berisi kelas atau label dari konten tersebut.0 yang berati bukan spam dan 1 yang berati spam\n",
        "\n",
        "- train_test_split:\n",
        "\n",
        "Fungsi ini digunakan untuk membagi dataset menjadi subset pelatihan dan pengujian. Argumen-argumen yang diberikan ke fungsi ini adalah fitur dan label, serta parameter untuk menentukan ukuran subset pengujian dan seed untuk pengacakan.\n",
        "\n",
        "- test_size=0.3:\n",
        "\n",
        "Parameter ini menentukan proporsi dataset yang akan dialokasikan untuk subset pengujian. Dalam contoh ini, 30% dari dataset akan digunakan sebagai data pengujian, dan sisanya 70% akan digunakan sebagai data pelatihan.\n",
        "\n",
        "- random_state=12:\n",
        "\n",
        "Parameter ini menetapkan seed untuk pengacakan sehingga hasil pemisahan data akan konsisten setiap kali kode dijalankan. Ini berguna untuk reproduksibilitas hasil.\n",
        "\n",
        "- train_comment:\n",
        "\n",
        "Ini adalah subset dari df.CONTENT yang berisi 70% dari data awal, yang akan digunakan untuk melatih model.\n",
        "\n",
        "- test_comment:\n",
        "\n",
        "Ini adalah subset dari df.CONTENT yang berisi 30% dari data awal, yang akan digunakan untuk menguji model.\n",
        "\n",
        "- train_class:\n",
        "\n",
        "Ini adalah subset dari df.CLASS yang sesuai dengan train_comment, yang berisi 70% dari label awal, yang akan digunakan untuk melatih model.\n",
        "\n",
        "- test_class:\n",
        "\n",
        "Ini adalah subset dari df.CLASS yang sesuai dengan test_comment, yang berisi 30% dari label awal, yang akan digunakan untuk menguji model."
      ],
      "metadata": {
        "id": "PI_rnPvQ-DtK"
      }
    },
    {
      "cell_type": "code",
      "source": [
        "# Cek jumlah train_comment dan test_comment\n",
        "\n",
        "print('Jumlah Train-Set : ', len(train_comment))\n",
        "print('Jumlah Test-Set  : ', len(test_comment))"
      ],
      "metadata": {
        "colab": {
          "base_uri": "https://localhost:8080/"
        },
        "id": "aAUwIr5kAA1J",
        "outputId": "1ddbf279-a52d-4a52-bbd4-dc52f7715557"
      },
      "execution_count": 6,
      "outputs": [
        {
          "output_type": "stream",
          "name": "stdout",
          "text": [
            "Jumlah Train-Set :  259\n",
            "Jumlah Test-Set  :  111\n"
          ]
        }
      ]
    },
    {
      "cell_type": "markdown",
      "source": [
        "Jumlah data ada 371 sehingga jumlah train-set 70% dikali 371=259.7 dan test-set 30% dikali 371=111.3"
      ],
      "metadata": {
        "id": "82PrRe12ATbX"
      }
    },
    {
      "cell_type": "markdown",
      "source": [
        "## Vektorisasi"
      ],
      "metadata": {
        "id": "HTbgJQatAtz1"
      }
    },
    {
      "cell_type": "code",
      "source": [
        "# Inisiasi CountVectorizer\n",
        "\n",
        "from sklearn.feature_extraction.text import CountVectorizer\n",
        "\n",
        "vect = CountVectorizer()"
      ],
      "metadata": {
        "id": "r3AWuTguAHQS"
      },
      "execution_count": 7,
      "outputs": []
    },
    {
      "cell_type": "code",
      "source": [
        "# Mempelajari kata apa saja yang ada pada `train_comment`\n",
        "vect.fit(train_comment)\n",
        "\n",
        "# Mengubah kata menjadi vektor berdasarkan frekuensi kemunculannya\n",
        "train_comment_mat = vect.transform(train_comment)\n",
        "test_comment_mat = vect.transform(test_comment)"
      ],
      "metadata": {
        "id": "SUOm40wGAqlu"
      },
      "execution_count": 8,
      "outputs": []
    },
    {
      "cell_type": "markdown",
      "source": [
        "- vect = CountVectorizer():  \n",
        "\n",
        "membuat objek CountVectorizer yang akan digunakan untuk menghitung frekuensi kata.\n",
        "\n",
        "- vect.fit(train_comment):\n",
        "\n",
        "Proses ini membuat kosakata dari semua kata unik yang muncul di train_comment. Kosakata ini digunakan sebagai basis untuk transformasi teks menjadi fitur vektor.\n",
        "\n",
        "- train_comment_mat = vect.transform(train_comment):\n",
        "\n",
        "Mengubah setiap teks di train_comment menjadi vektor frekuensi kata berdasarkan kosakata yang dipelajari. Hasilnya adalah matriks fitur (sparse matrix) yang mewakili frekuensi kemunculan kata di setiap teks\n",
        "\n",
        "- test_comment_mat = vect.transform(test_comment):\n",
        "\n",
        "Mengubah setiap teks di test_comment menjadi vektor frekuensi kata menggunakan kosakata yang sama yang dipelajari dari train_comment. Ini memastikan bahwa data uji diwakili dalam ruang fitur yang sama dengan data latih."
      ],
      "metadata": {
        "id": "CCyu0gQuCreV"
      }
    },
    {
      "cell_type": "code",
      "source": [
        "print(\"Kosakata yang dipelajari:\")\n",
        "print(vect.vocabulary_)\n",
        "# digunakan untuk menampilkan kosakata yang dipelajari oleh objek CountVectorizer setelah metode fit dipanggil pada data pelatihan (train_comment)."
      ],
      "metadata": {
        "colab": {
          "base_uri": "https://localhost:8080/"
        },
        "id": "0iX-XFKXBOGJ",
        "outputId": "218a2a22-cf10-4536-c352-1de4c246c4d1"
      },
      "execution_count": 10,
      "outputs": [
        {
          "output_type": "stream",
          "name": "stdout",
          "text": [
            "Kosakata yang dipelajari:\n",
            "{'check': 194, 'out': 647, 'my': 599, 'new': 609, 'mixtape': 581, 'could': 231, 'you': 1036, 'please': 682, 'covers': 237, 'on': 634, 'channel': 189, 'do': 271, 'like': 520, 'adele': 51, 'kodaline': 506, 'imagine': 462, 'dragons': 281, 'and': 89, 'more': 587, 'if': 456, 'spare': 829, 'few': 337, 'minutes': 576, 'have': 418, 'listen': 528, 'to': 908, 'one': 636, 'or': 639, 'two': 926, 'of': 627, 'feel': 335, 'free': 360, 'comment': 214, 'subscribe': 851, 'thank': 882, 'always': 75, 'goose': 395, 'bumps': 167, 'at': 113, 'that': 885, 'part': 654, 'wery': 987, 'good': 393, 'perhaps': 669, 'seen': 769, 'the': 886, 'newest': 610, 'miley': 573, 'cyrus': 245, 'secret': 764, 'video': 948, 'she': 782, '39': 23, 'sucking': 862, 'an': 87, 'old': 631, 'man': 552, 'cock': 205, 'wish': 1005, 'see': 767, 'her': 426, 'celebrity': 183, 'website': 982, 'beneath': 138, 'co': 203, 'uk': 928, 'your': 1037, 'fucking': 370, 'bitch': 147, 'amp': 86, 'watch': 975, '5tu9gn1l310': 35, 'love': 539, 'shakira': 778, 'is': 481, 'very': 947, 'beautiful': 129, 'nice': 612, 'song': 815, 'times': 905, 'feed': 334, 'coby': 204, 'this': 897, 'usl': 942, 'past': 658, 'br': 160, 'href': 448, 'http': 451, 'adf': 52, 'ly': 545, '1hmvtx': 13, 'delete': 258, 'space': 824, 'after': 63, 'makes': 550, 'me': 562, 'miss': 578, 'world': 1018, 'cup': 240, 'thumsb': 902, 'up': 938, 'hello': 424, 'everyone': 314, 'know': 505, 'most': 589, 'probably': 699, 'pass': 655, 'these': 893, 'kind': 503, 'comments': 215, 'but': 169, 'for': 351, 'those': 898, 'who': 994, 'are': 107, 'still': 842, 'reading': 724, 'thanks': 883, 'don': 275, 'any': 96, 'money': 583, 'advertisements': 57, 'no': 615, 'chance': 187, 'getting': 383, 'heard': 422, 'nothing': 619, 'live': 530, 'in': 466, 'such': 861, 'small': 803, 'town': 915, 'comes': 210, 'off': 628, 'as': 110, 'spam': 826, 'sorry': 821, 'instrumental': 475, 'songwriter': 817, 'from': 368, 'columbus': 208, 'mississippi': 579, 'go': 389, 'original': 640, 'music': 595, 'it': 483, 'would': 1022, 'be': 128, 'highly': 432, 'appreciated': 103, 'thumbs': 901, 'so': 807, 'can': 175, 'adam': 49, 'whitney': 993, 'there': 891, 'songs': 816, 'meet': 567, 'richest': 742, 'online': 637, 'marketer': 554, 'now': 620, 'click': 201, 'bit': 146, 'make': 549, 'without': 1007, 'adroid': 55, 'give': 386, 'email': 299, 'support': 865, 'fight': 340, '4th': 29, 'amendment': 81, 'right': 744, 'privacy': 698, 'home': 439, 'stop': 843, 'nsa': 621, 'spying': 834, 'americans': 83, 'with': 1006, 'un': 929, 'patriot': 661, 'act': 47, 'renewal': 738, 'rand': 717, 'paul': 662, 'has': 417, 'spent': 831, '10': 4, 'hours': 446, 'senate': 771, 'floor': 347, 'protest': 704, 'filibuster': 342, 'fighting': 341, 'our': 645, 'constitution': 225, 'nation': 603, 'founded': 356, 'join': 492, 'dot': 279, 'com': 209, 'spread': 833, 'word': 1013, 'we': 980, 'someone': 812, 'cares': 179, 'about': 41, 'senators': 773, 'congress': 223, 'men': 570, 'women': 1009, 'tell': 878, 'them': 888, 'news': 611, 'too': 911, 'senator': 772, 'was': 972, 'until': 937, 'www': 1027, 'youtube': 1038, 'prpeedmmmq0': 707, '1m00s': 14, '00': 0, 'am': 76, 'passed': 656, 'saturday': 757, 'morning': 588, 'buy': 171, 'postponing': 692, 'vote': 959, 'week': 983, 'matters': 560, 'protect': 703, 'ht': 449, 'business': 168, 'all': 72, 'us': 940, 'help': 425, 'by': 172, 'joining': 493, 'fright': 366, 'voice': 958, 'sounds': 823, 'weird': 984, 'plus': 684, 'cute': 243, 'blonde': 152, 'cool': 228, 'sad': 752, 'hey': 429, 'fans': 325, 'really': 726, 'appreciate': 102, 'will': 999, 'take': 874, 'time': 904, 'read': 723, 'just': 495, '15': 9, 'year': 1033, 'boy': 158, 'dreaming': 285, 'being': 135, 'successful': 860, 'musician': 596, 'lots': 538, 'piano': 672, 'advertise': 56, 'simple': 791, 'videos': 949, 'subscription': 856, 'step': 839, 'forward': 354, 'only': 638, 'seconds': 763, 'life': 519, 'won': 1010, 'regret': 735, 'people': 666, 'facebook': 321, 'lame': 508, '2004': 15, 'swagfriends': 870, 'thousands': 899, 'friends': 365, 'everyday': 313, 'movement': 592, 'visit': 956, 'quot': 713, 'ww': 1026, 'estiloproduction': 304, 'best': 139, 'guys': 406, 'should': 786, 'extraordinary': 320, 'called': 173, 'zonepa': 1040, 'start': 836, 'working': 1016, 'today': 909, 'making': 551, 'over': 648, '000': 1, 'per': 667, 'month': 585, 'why': 997, 'does': 272, 'statement': 838, 'conciliate': 221, 'acidic': 44, 'stretch': 846, 'earth': 293, 'recognizes': 728, 'when': 990, 'numberless': 623, 'number': 622, 'transport': 919, 'trade': 916, 'dancer': 249, 'ｈｔｔｐ': 1043, 'ｗｗｗ': 1046, 'ｅｂａｙ': 1042, 'ｃｏｍ': 1041, 'ｕｓｒ': 1045, 'ｓｈｏｅｃｏｌｌｅｃｔｏｒ314': 1044, 'wats': 977, 'da': 246, 'ik': 457, 'yall': 1030, 'got': 397, 'waka': 964, 'soccer': 808, 'team': 876, 'made': 548, 'cd': 181, 'couch': 230, 'many': 553, 'dislikes': 269, 'awesome': 118, 'must': 597, 'racists': 715, 'god': 392, 'hot': 444, 'ilovethissong': 459, 'haha': 407, 'done': 277, 'once': 635, 'again': 64, 'leeched': 516, 'porno': 687, 'celeb': 182, 'site': 797, 'believe': 137, 'link': 525, 'case': 180, 'want': 970, 'view': 951, 'll': 531, 'look': 534, 'page': 650, 'dis': 264, 'ever': 311, 'x3333333333': 1028, 'animal': 92, 'trafficking': 917, 'petition': 671, 'thepetitionsite': 890, '387': 22, '433': 27, '550': 34, 'cid': 199, 'headerclick': 420, 'dont': 278, 'means': 564, 'lot': 537, 'comforter': 212, 'afflicted': 59, 'pray': 694, 'christians': 198, 'queen': 711, 'angels': 91, 'patriarchs': 659, 'prophets': 702, 'apostles': 99, 'martyrs': 556, 'confessors': 222, 'virgins': 955, 'saints': 754, 'conceived': 220, 'sin': 793, 'holy': 438, 'rosary': 748, 'family': 322, 'peace': 664, 'playlist': 679, 'central': 184, 'wanna': 969, 'earn': 291, 'investment': 478, 'therglove': 892, 'blogspot': 151, '2013': 16, '08': 3, 'blog': 149, 'post_10': 690, 'html': 450, 'worldcup': 1019, 'omg': 633, 'ilove': 458, 'sound': 822, 'spanish': 828, 'what': 988, 'amazing': 79, 'oh': 630, 'billion': 145, 'replay': 739, 'pretty': 696, 'ask': 111, 'nicely': 613, 'vids': 950, 'back': 122, 'dtqcftr1fac': 289, 'justien': 497, 'bieber': 144, 'car': 176, 'understand': 933, 'way': 978, 'how': 447, 'doing': 274, 'brake': 161, 'things': 895, 'fast': 328, 'mind': 575, 'master': 558, 'hi': 430, 'dribbleproshot': 286, 'search': 760, 'google': 394, 'their': 887, 'web': 981, 'smart': 804, 'featuring': 333, 'significantly': 788, 'boost': 156, 'football': 350, 'aka': 70, 'skills': 799, 'turned': 924, 'nick': 614, 'into': 477, 'much': 594, 'better': 142, 'player': 678, 'his': 435, 'mates': 559, 'were': 986, 'definitily': 256, 'amazed': 77, 'hope': 440, 'also': 74, 'watching': 976, '2015': 17, 'offical': 629, 'requite': 740, 'get': 381, '500': 31, 'subscribers': 854, 'happen': 412, 'expect': 317, 'rules': 751, 'laugh': 513, 'liked': 521, 'uncle': 930, 'said': 753, 'he': 419, 'smoking': 806, 'gets': 382, 'likes': 522, 'whose': 996, 'shakiria': 779, 'humanity': 454, 'sign': 787, 'wholehearted': 995, 'say': 758, 'discrimination': 265, 'united': 936, 'stand': 835, 'bring': 163, 'change': 188, 'together': 910, 'impossible': 464, 'itself': 485, 'says': 759, 'possible': 689, 'winners': 1003, 'success': 859, 'cheers': 195, 'loving': 542, 'brothers': 166, 'sisters': 796, 'share': 781, 'against': 65, 'tinyurl': 906, 'slash': 802, 'mxh2y77': 598, 'fear': 332, 'none': 616, 'ouf': 643, 'ouffffffffffffffffff': 644, 'gives': 387, 'chills': 196, 'stil': 841, 'lisening': 527, 'compared': 216, 'million': 574, 'comprehend': 219, 'actually': 48, 'high': 431, 'profile': 700, 'tapes': 875, 'herself': 428, 'banging': 126, 'been': 132, 'posted': 691, 'under': 932, 'shit': 783, 'sooooo': 820, 'autotuned': 116, 'subscribed': 852, 'become': 131, 'first': 346, 'female': 336, 'hit': 437, '1billiom': 12, 'views': 952, 've': 944, 'decided': 254, 'least': 515, 'day': 252, 'shakifans': 777, 'close': 202, 'button': 170, 'eva': 308, 'spirits': 832, 'hard': 415, 'student': 847, 'passionate': 657, 'singer': 795, 'foward': 357, 'own': 649, 'lana': 510, 'del': 257, 'rey': 741, 'drake': 282, 'macklemore': 547, 'pink': 674, 'countless': 233, 'others': 642, 'goal': 390, 'isn': 482, 'famous': 324, 'inspire': 472, 'fyi': 371, 'spamming': 827, 'freedom': 361, 'speech': 830, 'swear': 871, 'keeps': 499, 'gorgeous': 396, 'definitely': 255, 'looks': 535, 'hair': 409, 'than': 881, 'super': 864, 'curly': 241, 'dubstep': 290, 'version': 946, 'wow': 1023, 'totally': 914, 'absolutely': 42, 'fantastic': 326, 'ya': 1029, 'adore': 54, 'started': 837, 'earning': 292, 'income': 468, 'risk': 745, 'claiming': 200, 'bonus': 153, 'deals': 253, 'technique': 877, 'where': 991, 'put': 710, 'something': 813, 'bookmakers': 155, 'betfair': 141, 'acquire': 45, 'lad': 507, 'named': 602, 'jim': 489, 'vanstone': 943, 'selecting': 770, 'wagers': 963, 'secrets': 765, 'generated': 379, '600': 36, 'quid': 712, 'far': 327, 'assume': 112, 'pay': 663, 'him': 433, 'succeeds': 858, 'gusttavo': 405, 'lima': 523, 'você': 957, 'não': 625, 'conhece': 224, 'every': 312, 'hear': 421, 'think': 896, 'iniesta': 471, 'netherlands': 607, 'meat': 565, 'discusss': 266, 'memory': 569, 'peaceful': 665, 'unit': 935, 'arbitrate': 106, 'guide': 403, 'addition': 50, 'designs': 261, 'worried': 1020, 'loss': 536, 'britishs': 165, 'true': 922, 'foot': 349, 'rugby': 750, 'works': 1017, 'euw': 307, 'germany': 380, 'netherland': 606, 'france': 359, 'portugal': 688, 'belgium': 136, 'spain': 825, 'because': 130, 'agree': 67, 'they': 894, 'unique': 934, 'reason': 727, 'refused': 734, 'euro': 306, 'dickwad': 262, 're': 721, 'africans': 62, 'colour': 207, 'skin': 800, 'tells': 879, 'long': 533, 'ago': 66, 'ancestors': 88, 'left': 517, 'africa': 60, 'baba': 121, 'brinkman': 164, 'african': 61, 'learn': 514, 'fave': 330, 'while': 992, 'killed': 501, 'versace': 945, 'remix': 737, 'type': 927, 'cge': 186, 'freestyle': 362, 'shot': 785, 'ja': 488, 'wan': 967, 'gardner': 377, 'reach': 722, 'lt': 543, 'keep': 498, 'em': 298, 'coming': 213, 'johnny': 491, 'already': 73, 'thumb': 900, 'found': 355, 'completely': 218, 'person': 670, 'continue': 227, 'sing': 794, 'write': 1024, 'lyrics': 546, 'play': 677, 'guitar': 404, 'bass': 127, 'drums': 288, 'keyboards': 500, 'band': 124, 'independent': 469, '100': 5, 'listener': 529, 'supported': 866, 'willing': 1000, 'record': 729, 'album': 71, 'name': 601, 'picture': 673, 'enjoy': 300, 'daily': 247, 'vines': 953, 'oldchat': 632, 'tk': 907, 'win': 1002, 'hopme': 442, 'here': 427, 'https': 452, 'paidverts': 652, 'ref': 733, 'sihaam01': 789, 'work': 1015, 'years': 1034, 'soon': 819, '333': 20, '33': 19, 'racist': 714, 'paid': 651, 'mess': 571, 'around': 108, 'twitter': 925, 'upto': 939, '25': 18, '35': 21, 'hour': 445, '4netjobs': 28, 'comfort': 211, 'currently': 242, 'hiring': 434, 'wide': 998, 'range': 718, 'social': 809, 'media': 566, 'jobs': 490, 'sites': 798, 'need': 604, 'prior': 697, 'experience': 319, 'begin': 133, 'immediately': 463, 'easily': 294, '4000': 25, '5000': 32, 'monthly': 586, 'perfect': 668, 'youtubers': 1039, 'lover': 540, 'guess': 402, 'skip': 801, 'advertisiments': 58, 'im': 460, '17': 10, 'rapper': 719, 'estonia': 305, 'cover': 236, 'account': 43, 'wont': 1011, 'half': 410, 'second': 762, 'maybe': 561, 'real': 725, 'wafence': 961, 'not': 618, 'lip': 526, 'synch': 873, 'terrible': 880, 'wasting': 974, '753': 38, '682': 37, '421': 26, 'gangnam': 376, 'style': 848, 'sexy': 775, 'drives': 287, 'crazy': 238, 'artist': 109, 'dark': 251, 'horse': 443, 'ahead': 68, 'roughly': 749, 'roar': 746, '50': 30, 'pleas': 680, 'gamezzmta': 375, 'beutiful': 143, 'happy': 414, 'instantly': 473, 'forgot': 352, 'everything': 315, 'bad': 123, 'happening': 413, 'american': 82, 'wanderfol': 968, 'miusic': 580, 'brazil': 162, 'mother': 590, 'approve': 104, 'axiomatic': 119, 'insurance': 476, 'appoints': 101, 'roll': 747, 'prepare': 695, 'historical': 436, 'shame': 780, 'daneja': 250, 'girl': 385, 'remember': 736, 'wiredo': 1004, 'itt': 486, 'ppl': 693, 'yea': 1031, 'wk': 1008, 'same': 756, 'moneygq': 584, 'fragile': 358, 'swim': 872, 'enlist': 301, 'ice': 455, 'audit': 114, 'frequent': 363, 'son': 814, 'describes': 260, 'rate': 720, 'promise': 701, 'sub': 849, 'pleassssssssssssssss': 683, 'subscribeeeeeeeeee': 853, 'channnnnnelll': 190, 'plzz': 686, 'bands': 125, 'killtheclockhd': 502, 'some': 811, 'including': 467, 'disguise': 267, 'animator': 94, 'trying': 923, 'animation': 93, 'industry': 470, 'prove': 706, 'myself': 600, 'trayvon': 920, 'motherland': 591, '108k': 6, 'dislike': 268, 'eh': 297, 'northland': 617, 'paranormal': 653, 'society': 810, 'evidence': 316, 'whats': 989, 'app': 100, 'lets': 518, 'gift': 384, 'card': 177, 'vouchers': 960, 'psn': 708, 'cards': 178, 'box': 157, 'even': 309, 'amazon': 80, 'simply': 792, 'download': 280, 'store': 844, 'juno': 494, 'wallet': 966, 'then': 889, 'complete': 217, 'surveys': 869, 'other': 641, 'apps': 105, 'cents': 185, 'code': 206, 'im2458444': 461, 'plausible': 676, 'summer': 863, 'submits': 850, 'behavior': 134, 'grass': 399, 'seat': 761, 'country': 234, 'strategizes': 845, 'edge': 295, 'later': 512, 'axy665': 120, 'plz': 685, 'wilsubscribe': 1001, 'frndzzl': 367, '14': 7, 'boys': 159, 'enter': 303, 'dreamers': 284, 'ourself': 646, 'annoying': 95, 'hell': 423, 'anything': 98, 'game': 373, 'thankss': 884, 'friend': 364, 'sam': 755, 'loves': 541, 'lamest': 509, 'mean': 563, 'wasn': 973, 'aid': 69, 'event': 310, 'seem': 768, 'charity': 192, 'instead': 474, 'proud': 705, 'moment': 582, 'ricky': 743, 'martin': 555, 'needed': 605, 'smh': 805, 'gamezz': 374, 'mta': 593, 'camp': 174, 'send': 774, 'justice': 496, 'line': 524, 'steven': 840, 'reed': 732, 'lands': 511, 'supreme': 867, 'court': 235, 'financial': 343, 'acquiring': 46, 'wager': 962, 'bet': 140, 'secure': 766, 'chap': 191, 'finding': 345, 'thus': 903, 'cost': 229, 'bookies': 154, 'obtain': 626, 'consumers': 226, 'yet': 1035, 'tried': 921, 'find': 344, 'useful': 941, 'demonstrating': 259, 'enormously': 302, 'improve': 465, 'transformed': 918, 'fausto': 329, 'substantially': 857, 'amazement': 78, 'hopefully': 441, 'lol': 532, 'efforts': 296, '14gkvdo': 8, 'took': 912, '19': 11, 'wants': 971, 'great': 400, 'gave': 378, 'halloween': 411, 'anderson': 90, 'expecting': 318, 'words': 1014, 'gain': 372, 'might': 572, 'different': 263, 'harder': 416, 'anyone': 97, 'cuz': 244, 'yeah': 1032, 'dream': 283, 'huge': 453, 'doesn': 273, 'subscribing': 855, 'its': 484, 'soo': 818, 'irish': 480, 'avicii': 117, 'wake': 965, 'fiddle': 338, 'silly': 790, 'worth': 1021, 'itttttttt': 487, 'wurkkkkkkkkkkkkkkkkkkkkkkkkkkkkkkkkkkkkkkkkkkkkkkkkkkkkkkkkkkkkkkkkkkkkkkkkkkkkkkkkkkkkkkkkkkkkkkkkkkkkk': 1025, 'forty': 353, 'famine': 323, 'giving': 388, 'food': 348, '40': 24, 'raise': 716, 'luxuries': 544, 'donate': 276, 'amount': 85, 'favourite': 331, 'wooooo': 1012, 'hahahahah': 408, 'recording': 730, 'fifa': 339, 'goals': 391, 'shkira': 784, 'aunt': 115, 'ways': 979, '50k': 33, 'gt': 401, '9nl': 40, 'fuck': 369, '0687119038': 2, 'nummber': 624, 'patrik': 660, 'kluivert': 504, 'torunament': 913, 'never': 608, 'pisses': 675, 'blank': 148, '868': 39, 'mio': 577, 'meh': 568, 'pleasant': 681, 'shaki': 776, 'sure': 868, 'mary': 557, 'virgin': 954, 'christ': 197, 'divine': 270, 'grace': 398, 'pure': 709, 'chaste': 193, 'inviolate': 479, 'undefiled': 931, 'amiable': 84, 'admirable': 53, 'counsel': 232, 'creator': 239, 'redeemer': 731, 'wellcomemd': 985, 'blogfa': 150, 'damn': 248}\n"
          ]
        }
      ]
    },
    {
      "cell_type": "markdown",
      "source": [
        "## Klasifikasi"
      ],
      "metadata": {
        "id": "8ZseMB9TA1Ui"
      }
    },
    {
      "cell_type": "code",
      "source": [
        "# Inisiasi K-Nearest Neighbors (KNN) dengan jumlah tetangga = 5\n",
        "\n",
        "from sklearn.neighbors import KNeighborsClassifier\n",
        "knn = KNeighborsClassifier(n_neighbors=5)\n",
        "# KNeighborsClassifier: Membuat instance dari klasifier KNN.\n",
        "# Jumlah tetangga yang sering digunakan dalam praktik adalah 3, 5, atau 7. Angka 5 adalah nilai yang sering digunakan karena memberikan keseimbangan yang baik antara model yang sensitif dan model yang terlalu umum"
      ],
      "metadata": {
        "id": "eNLezHKjAzme"
      },
      "execution_count": 12,
      "outputs": []
    },
    {
      "cell_type": "code",
      "source": [
        "# Membuat model\n",
        "\n",
        "knn.fit(train_comment_mat, train_class)\n",
        "#train_comment_mat menyediakan fitur numerik dari data pelatihan, sementara train_class menyediakan label target yang digunakan oleh model KNN"
      ],
      "metadata": {
        "colab": {
          "base_uri": "https://localhost:8080/",
          "height": 74
        },
        "id": "hgkUEoOTBDia",
        "outputId": "b2ae7125-830b-43ef-e4ea-f56ef6673b1c"
      },
      "execution_count": 13,
      "outputs": [
        {
          "output_type": "execute_result",
          "data": {
            "text/plain": [
              "KNeighborsClassifier()"
            ],
            "text/html": [
              "<style>#sk-container-id-1 {color: black;}#sk-container-id-1 pre{padding: 0;}#sk-container-id-1 div.sk-toggleable {background-color: white;}#sk-container-id-1 label.sk-toggleable__label {cursor: pointer;display: block;width: 100%;margin-bottom: 0;padding: 0.3em;box-sizing: border-box;text-align: center;}#sk-container-id-1 label.sk-toggleable__label-arrow:before {content: \"▸\";float: left;margin-right: 0.25em;color: #696969;}#sk-container-id-1 label.sk-toggleable__label-arrow:hover:before {color: black;}#sk-container-id-1 div.sk-estimator:hover label.sk-toggleable__label-arrow:before {color: black;}#sk-container-id-1 div.sk-toggleable__content {max-height: 0;max-width: 0;overflow: hidden;text-align: left;background-color: #f0f8ff;}#sk-container-id-1 div.sk-toggleable__content pre {margin: 0.2em;color: black;border-radius: 0.25em;background-color: #f0f8ff;}#sk-container-id-1 input.sk-toggleable__control:checked~div.sk-toggleable__content {max-height: 200px;max-width: 100%;overflow: auto;}#sk-container-id-1 input.sk-toggleable__control:checked~label.sk-toggleable__label-arrow:before {content: \"▾\";}#sk-container-id-1 div.sk-estimator input.sk-toggleable__control:checked~label.sk-toggleable__label {background-color: #d4ebff;}#sk-container-id-1 div.sk-label input.sk-toggleable__control:checked~label.sk-toggleable__label {background-color: #d4ebff;}#sk-container-id-1 input.sk-hidden--visually {border: 0;clip: rect(1px 1px 1px 1px);clip: rect(1px, 1px, 1px, 1px);height: 1px;margin: -1px;overflow: hidden;padding: 0;position: absolute;width: 1px;}#sk-container-id-1 div.sk-estimator {font-family: monospace;background-color: #f0f8ff;border: 1px dotted black;border-radius: 0.25em;box-sizing: border-box;margin-bottom: 0.5em;}#sk-container-id-1 div.sk-estimator:hover {background-color: #d4ebff;}#sk-container-id-1 div.sk-parallel-item::after {content: \"\";width: 100%;border-bottom: 1px solid gray;flex-grow: 1;}#sk-container-id-1 div.sk-label:hover label.sk-toggleable__label {background-color: #d4ebff;}#sk-container-id-1 div.sk-serial::before {content: \"\";position: absolute;border-left: 1px solid gray;box-sizing: border-box;top: 0;bottom: 0;left: 50%;z-index: 0;}#sk-container-id-1 div.sk-serial {display: flex;flex-direction: column;align-items: center;background-color: white;padding-right: 0.2em;padding-left: 0.2em;position: relative;}#sk-container-id-1 div.sk-item {position: relative;z-index: 1;}#sk-container-id-1 div.sk-parallel {display: flex;align-items: stretch;justify-content: center;background-color: white;position: relative;}#sk-container-id-1 div.sk-item::before, #sk-container-id-1 div.sk-parallel-item::before {content: \"\";position: absolute;border-left: 1px solid gray;box-sizing: border-box;top: 0;bottom: 0;left: 50%;z-index: -1;}#sk-container-id-1 div.sk-parallel-item {display: flex;flex-direction: column;z-index: 1;position: relative;background-color: white;}#sk-container-id-1 div.sk-parallel-item:first-child::after {align-self: flex-end;width: 50%;}#sk-container-id-1 div.sk-parallel-item:last-child::after {align-self: flex-start;width: 50%;}#sk-container-id-1 div.sk-parallel-item:only-child::after {width: 0;}#sk-container-id-1 div.sk-dashed-wrapped {border: 1px dashed gray;margin: 0 0.4em 0.5em 0.4em;box-sizing: border-box;padding-bottom: 0.4em;background-color: white;}#sk-container-id-1 div.sk-label label {font-family: monospace;font-weight: bold;display: inline-block;line-height: 1.2em;}#sk-container-id-1 div.sk-label-container {text-align: center;}#sk-container-id-1 div.sk-container {/* jupyter's `normalize.less` sets `[hidden] { display: none; }` but bootstrap.min.css set `[hidden] { display: none !important; }` so we also need the `!important` here to be able to override the default hidden behavior on the sphinx rendered scikit-learn.org. See: https://github.com/scikit-learn/scikit-learn/issues/21755 */display: inline-block !important;position: relative;}#sk-container-id-1 div.sk-text-repr-fallback {display: none;}</style><div id=\"sk-container-id-1\" class=\"sk-top-container\"><div class=\"sk-text-repr-fallback\"><pre>KNeighborsClassifier()</pre><b>In a Jupyter environment, please rerun this cell to show the HTML representation or trust the notebook. <br />On GitHub, the HTML representation is unable to render, please try loading this page with nbviewer.org.</b></div><div class=\"sk-container\" hidden><div class=\"sk-item\"><div class=\"sk-estimator sk-toggleable\"><input class=\"sk-toggleable__control sk-hidden--visually\" id=\"sk-estimator-id-1\" type=\"checkbox\" checked><label for=\"sk-estimator-id-1\" class=\"sk-toggleable__label sk-toggleable__label-arrow\">KNeighborsClassifier</label><div class=\"sk-toggleable__content\"><pre>KNeighborsClassifier()</pre></div></div></div></div></div>"
            ]
          },
          "metadata": {},
          "execution_count": 13
        }
      ]
    },
    {
      "cell_type": "code",
      "source": [
        "# Menguji pada test_comment\n",
        "\n",
        "from sklearn.metrics import accuracy_score\n",
        "\n",
        "hasil_prediksi = knn.predict(test_comment_mat)\n",
        "print('Akurasi : ', accuracy_score(test_class, hasil_prediksi))\n",
        "\n",
        "# knn.predict(test_comment_mat)\n",
        "#Menggunakan model KNN yang telah dilatih untuk memprediksi kelas dari data pengujian (test_comment_mat).\n",
        "#Menghasilkan prediksi kelas untuk setiap komentar dalam test_comment_mat\n",
        "\n",
        "# accuracy_score(test_class, hasil_prediksi)\n",
        "# Fungsi: Menghitung akurasi model dengan membandingkan label kelas sebenarnya (test_class) dengan prediksi yang dihasilkan (hasil_prediksi).\n",
        "# Mengembalikan nilai akurasi yang menunjukkan proporsi prediksi yang benar dari total prediksi."
      ],
      "metadata": {
        "colab": {
          "base_uri": "https://localhost:8080/"
        },
        "id": "7vHKP_i6BHy9",
        "outputId": "3c1ce0b5-dbd2-4df1-ca3a-fa91a23ee363"
      },
      "execution_count": 14,
      "outputs": [
        {
          "output_type": "stream",
          "name": "stdout",
          "text": [
            "Akurasi :  0.8108108108108109\n"
          ]
        }
      ]
    },
    {
      "cell_type": "markdown",
      "source": [
        "## Tes Komentar Baru"
      ],
      "metadata": {
        "id": "K2TsUO-jBSm3"
      }
    },
    {
      "cell_type": "code",
      "source": [
        "# Test komentar baru\n",
        "komentar_baru = [\"Your voice is very good and makes me inspired to always practice\",\n",
        "                 \"Hey guys, subscribe to another channel that has a better voice and is also soothing\"]\n",
        "\n",
        "# Mengubah teks ke dalam bentuk vector\n",
        "komentar_baru = vect.transform(komentar_baru)\n",
        "\n",
        "# Memprediksi komentar baru\n",
        "hasil_prediksi_komentar_baru = knn.predict(komentar_baru)\n",
        "print('Hasil Prediksi : ', hasil_prediksi_komentar_baru)"
      ],
      "metadata": {
        "colab": {
          "base_uri": "https://localhost:8080/"
        },
        "id": "rvuwrSx3BKk7",
        "outputId": "4221b71b-2b16-4f0f-8fa9-3109301c5d6d"
      },
      "execution_count": null,
      "outputs": [
        {
          "output_type": "stream",
          "name": "stdout",
          "text": [
            "Hasil Prediksi :  [0 1]\n"
          ]
        }
      ]
    },
    {
      "cell_type": "code",
      "source": [],
      "metadata": {
        "id": "U3Y_JuHgBZmF"
      },
      "execution_count": null,
      "outputs": []
    },
    {
      "cell_type": "markdown",
      "source": [
        "# Kesimpulan\n",
        "\n",
        "- Bagi konten Kreator\n",
        "\n",
        "Analisis deteksi spam pada komentar YouTube adalah langkah penting bagi kreator konten yang ingin menjaga kualitas interaksi di kanal mereka. Komentar spam dapat mengganggu diskusi yang sehat, menurunkan kualitas pengalaman penonton, dan merusak komunitas yang telah dibangun dengan susah payah. Dengan menggunakan teknik pembelajaran mesin dan pemrosesan bahasa alami, kreator dapat secara efektif mengidentifikasi dan menghapus komentar spam, memastikan bahwa interaksi di kanal mereka tetap positif dan konstruktif. Ini tidak hanya membantu dalam mempertahankan audiens yang setia tetapi juga meningkatkan motivasi kreator untuk terus menghasilkan konten berkualitas.\n",
        "\n",
        "- Bagi sebuah Perusahaan\n",
        "\n",
        "Analisis deteksi spam pada komentar YouTube merupakan langkah penting bagi perusahaan yang ingin beriklan di platform ini, karena komentar spam dapat merusak pengalaman pengguna dan menciptakan citra negatif bagi merek. Dengan menggunakan teknik pembelajaran mesin dan pemrosesan bahasa alami, perusahaan dapat secara efektif mengidentifikasi dan memfilter spam, menjaga kualitas interaksi pada saluran yang dipilih untuk periklanan. Hal ini memastikan bahwa iklan perusahaan tampil secara positif dan dalam konteks yang relevan, meningkatkan kepercayaan dan keterlibatan audiens, serta mengoptimalkan efektivitas kampanye pemasaran."
      ],
      "metadata": {
        "id": "pjmO9CC3QfaZ"
      }
    }
  ]
}